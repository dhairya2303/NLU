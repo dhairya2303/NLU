{
 "cells": [
  {
   "cell_type": "code",
   "execution_count": 1,
   "metadata": {
    "execution": {
     "iopub.execute_input": "2021-05-06T09:11:29.855945Z",
     "iopub.status.busy": "2021-05-06T09:11:29.855244Z",
     "iopub.status.idle": "2021-05-06T09:11:39.494333Z",
     "shell.execute_reply": "2021-05-06T09:11:39.493363Z"
    },
    "papermill": {
     "duration": 9.673069,
     "end_time": "2021-05-06T09:11:39.494447",
     "exception": false,
     "start_time": "2021-05-06T09:11:29.821378",
     "status": "completed"
    },
    "tags": []
   },
   "outputs": [],
   "source": [
    "import numpy as np\n",
    "import pandas as pd\n",
    "import matplotlib.pyplot as plt\n",
    "import plotly.graph_objects as go\n",
    "from plotly.subplots import make_subplots\n",
    "import seaborn as sns\n",
    "from transformers import AutoTokenizer, BertTokenizer, TFAutoModel, TFBertModel\n",
    "import tensorflow as tf\n",
    "import tensorflow.keras.backend as K\n",
    "from sklearn.model_selection import StratifiedKFold,train_test_split\n",
    "import os\n",
    "\n",
    "os.environ[\"WANDB_API_KEY\"] = \"0\""
   ]
  },
  {
   "cell_type": "markdown",
   "metadata": {
    "papermill": {
     "duration": 0.025353,
     "end_time": "2021-05-06T09:11:39.546358",
     "exception": false,
     "start_time": "2021-05-06T09:11:39.521005",
     "status": "completed"
    },
    "tags": []
   },
   "source": [
    "# Data Overview and EDA"
   ]
  },
  {
   "cell_type": "code",
   "execution_count": 2,
   "metadata": {
    "execution": {
     "iopub.execute_input": "2021-05-06T09:11:39.603493Z",
     "iopub.status.busy": "2021-05-06T09:11:39.602904Z",
     "iopub.status.idle": "2021-05-06T09:11:39.720333Z",
     "shell.execute_reply": "2021-05-06T09:11:39.721036Z"
    },
    "papermill": {
     "duration": 0.149581,
     "end_time": "2021-05-06T09:11:39.721202",
     "exception": false,
     "start_time": "2021-05-06T09:11:39.571621",
     "status": "completed"
    },
    "tags": []
   },
   "outputs": [],
   "source": [
    "df_train = pd.read_csv('../input/contradictory-my-dear-watson/train.csv')\n",
    "df_test = pd.read_csv('../input/contradictory-my-dear-watson/test.csv')"
   ]
  },
  {
   "cell_type": "code",
   "execution_count": 3,
   "metadata": {
    "execution": {
     "iopub.execute_input": "2021-05-06T09:11:39.797588Z",
     "iopub.status.busy": "2021-05-06T09:11:39.796664Z",
     "iopub.status.idle": "2021-05-06T09:11:39.804121Z",
     "shell.execute_reply": "2021-05-06T09:11:39.804558Z"
    },
    "papermill": {
     "duration": 0.054907,
     "end_time": "2021-05-06T09:11:39.804674",
     "exception": false,
     "start_time": "2021-05-06T09:11:39.749767",
     "status": "completed"
    },
    "tags": []
   },
   "outputs": [
    {
     "data": {
      "text/html": [
       "<div>\n",
       "<style scoped>\n",
       "    .dataframe tbody tr th:only-of-type {\n",
       "        vertical-align: middle;\n",
       "    }\n",
       "\n",
       "    .dataframe tbody tr th {\n",
       "        vertical-align: top;\n",
       "    }\n",
       "\n",
       "    .dataframe thead th {\n",
       "        text-align: right;\n",
       "    }\n",
       "</style>\n",
       "<table border=\"1\" class=\"dataframe\">\n",
       "  <thead>\n",
       "    <tr style=\"text-align: right;\">\n",
       "      <th></th>\n",
       "      <th>id</th>\n",
       "      <th>premise</th>\n",
       "      <th>hypothesis</th>\n",
       "      <th>lang_abv</th>\n",
       "      <th>language</th>\n",
       "      <th>label</th>\n",
       "    </tr>\n",
       "  </thead>\n",
       "  <tbody>\n",
       "    <tr>\n",
       "      <th>0</th>\n",
       "      <td>5130fd2cb5</td>\n",
       "      <td>and these comments were considered in formulat...</td>\n",
       "      <td>The rules developed in the interim were put to...</td>\n",
       "      <td>en</td>\n",
       "      <td>English</td>\n",
       "      <td>0</td>\n",
       "    </tr>\n",
       "    <tr>\n",
       "      <th>1</th>\n",
       "      <td>5b72532a0b</td>\n",
       "      <td>These are issues that we wrestle with in pract...</td>\n",
       "      <td>Practice groups are not permitted to work on t...</td>\n",
       "      <td>en</td>\n",
       "      <td>English</td>\n",
       "      <td>2</td>\n",
       "    </tr>\n",
       "    <tr>\n",
       "      <th>2</th>\n",
       "      <td>3931fbe82a</td>\n",
       "      <td>Des petites choses comme celles-là font une di...</td>\n",
       "      <td>J'essayais d'accomplir quelque chose.</td>\n",
       "      <td>fr</td>\n",
       "      <td>French</td>\n",
       "      <td>0</td>\n",
       "    </tr>\n",
       "    <tr>\n",
       "      <th>3</th>\n",
       "      <td>5622f0c60b</td>\n",
       "      <td>you know they can't really defend themselves l...</td>\n",
       "      <td>They can't defend themselves because of their ...</td>\n",
       "      <td>en</td>\n",
       "      <td>English</td>\n",
       "      <td>0</td>\n",
       "    </tr>\n",
       "    <tr>\n",
       "      <th>4</th>\n",
       "      <td>86aaa48b45</td>\n",
       "      <td>ในการเล่นบทบาทสมมุติก็เช่นกัน โอกาสที่จะได้แสด...</td>\n",
       "      <td>เด็กสามารถเห็นได้ว่าชาติพันธุ์แตกต่างกันอย่างไร</td>\n",
       "      <td>th</td>\n",
       "      <td>Thai</td>\n",
       "      <td>1</td>\n",
       "    </tr>\n",
       "  </tbody>\n",
       "</table>\n",
       "</div>"
      ],
      "text/plain": [
       "           id                                            premise  \\\n",
       "0  5130fd2cb5  and these comments were considered in formulat...   \n",
       "1  5b72532a0b  These are issues that we wrestle with in pract...   \n",
       "2  3931fbe82a  Des petites choses comme celles-là font une di...   \n",
       "3  5622f0c60b  you know they can't really defend themselves l...   \n",
       "4  86aaa48b45  ในการเล่นบทบาทสมมุติก็เช่นกัน โอกาสที่จะได้แสด...   \n",
       "\n",
       "                                          hypothesis lang_abv language  label  \n",
       "0  The rules developed in the interim were put to...       en  English      0  \n",
       "1  Practice groups are not permitted to work on t...       en  English      2  \n",
       "2              J'essayais d'accomplir quelque chose.       fr   French      0  \n",
       "3  They can't defend themselves because of their ...       en  English      0  \n",
       "4    เด็กสามารถเห็นได้ว่าชาติพันธุ์แตกต่างกันอย่างไร       th     Thai      1  "
      ]
     },
     "execution_count": 3,
     "metadata": {},
     "output_type": "execute_result"
    }
   ],
   "source": [
    "df_train.head()"
   ]
  },
  {
   "cell_type": "code",
   "execution_count": 4,
   "metadata": {
    "execution": {
     "iopub.execute_input": "2021-05-06T09:11:39.874507Z",
     "iopub.status.busy": "2021-05-06T09:11:39.873542Z",
     "iopub.status.idle": "2021-05-06T09:11:39.880101Z",
     "shell.execute_reply": "2021-05-06T09:11:39.879678Z"
    },
    "papermill": {
     "duration": 0.047028,
     "end_time": "2021-05-06T09:11:39.880209",
     "exception": false,
     "start_time": "2021-05-06T09:11:39.833181",
     "status": "completed"
    },
    "tags": []
   },
   "outputs": [
    {
     "data": {
      "text/plain": [
       "id            0\n",
       "premise       0\n",
       "hypothesis    0\n",
       "lang_abv      0\n",
       "language      0\n",
       "label         0\n",
       "dtype: int64"
      ]
     },
     "execution_count": 4,
     "metadata": {},
     "output_type": "execute_result"
    }
   ],
   "source": [
    "df_train.isnull().sum()"
   ]
  },
  {
   "cell_type": "code",
   "execution_count": 5,
   "metadata": {
    "execution": {
     "iopub.execute_input": "2021-05-06T09:11:39.946554Z",
     "iopub.status.busy": "2021-05-06T09:11:39.945701Z",
     "iopub.status.idle": "2021-05-06T09:11:39.949644Z",
     "shell.execute_reply": "2021-05-06T09:11:39.949208Z"
    },
    "papermill": {
     "duration": 0.041207,
     "end_time": "2021-05-06T09:11:39.949735",
     "exception": false,
     "start_time": "2021-05-06T09:11:39.908528",
     "status": "completed"
    },
    "tags": []
   },
   "outputs": [
    {
     "data": {
      "text/html": [
       "<div>\n",
       "<style scoped>\n",
       "    .dataframe tbody tr th:only-of-type {\n",
       "        vertical-align: middle;\n",
       "    }\n",
       "\n",
       "    .dataframe tbody tr th {\n",
       "        vertical-align: top;\n",
       "    }\n",
       "\n",
       "    .dataframe thead th {\n",
       "        text-align: right;\n",
       "    }\n",
       "</style>\n",
       "<table border=\"1\" class=\"dataframe\">\n",
       "  <thead>\n",
       "    <tr style=\"text-align: right;\">\n",
       "      <th></th>\n",
       "      <th>id</th>\n",
       "      <th>premise</th>\n",
       "      <th>hypothesis</th>\n",
       "      <th>lang_abv</th>\n",
       "      <th>language</th>\n",
       "    </tr>\n",
       "  </thead>\n",
       "  <tbody>\n",
       "    <tr>\n",
       "      <th>0</th>\n",
       "      <td>c6d58c3f69</td>\n",
       "      <td>بکس، کیسی، راہیل، یسعیاہ، کیلی، کیلی، اور کولم...</td>\n",
       "      <td>کیسی کے لئے کوئی یادگار نہیں ہوگا, کولمین ہائی...</td>\n",
       "      <td>ur</td>\n",
       "      <td>Urdu</td>\n",
       "    </tr>\n",
       "    <tr>\n",
       "      <th>1</th>\n",
       "      <td>cefcc82292</td>\n",
       "      <td>هذا هو ما تم نصحنا به.</td>\n",
       "      <td>عندما يتم إخبارهم بما يجب عليهم فعله ، فشلت ال...</td>\n",
       "      <td>ar</td>\n",
       "      <td>Arabic</td>\n",
       "    </tr>\n",
       "    <tr>\n",
       "      <th>2</th>\n",
       "      <td>e98005252c</td>\n",
       "      <td>et cela est en grande partie dû au fait que le...</td>\n",
       "      <td>Les mères se droguent.</td>\n",
       "      <td>fr</td>\n",
       "      <td>French</td>\n",
       "    </tr>\n",
       "    <tr>\n",
       "      <th>3</th>\n",
       "      <td>58518c10ba</td>\n",
       "      <td>与城市及其他公民及社区组织代表就IMA的艺术发展进行对话&amp;amp</td>\n",
       "      <td>IMA与其他组织合作，因为它们都依靠共享资金。</td>\n",
       "      <td>zh</td>\n",
       "      <td>Chinese</td>\n",
       "    </tr>\n",
       "    <tr>\n",
       "      <th>4</th>\n",
       "      <td>c32b0d16df</td>\n",
       "      <td>Она все еще была там.</td>\n",
       "      <td>Мы думали, что она ушла, однако, она осталась.</td>\n",
       "      <td>ru</td>\n",
       "      <td>Russian</td>\n",
       "    </tr>\n",
       "  </tbody>\n",
       "</table>\n",
       "</div>"
      ],
      "text/plain": [
       "           id                                            premise  \\\n",
       "0  c6d58c3f69  بکس، کیسی، راہیل، یسعیاہ، کیلی، کیلی، اور کولم...   \n",
       "1  cefcc82292                             هذا هو ما تم نصحنا به.   \n",
       "2  e98005252c  et cela est en grande partie dû au fait que le...   \n",
       "3  58518c10ba                   与城市及其他公民及社区组织代表就IMA的艺术发展进行对话&amp   \n",
       "4  c32b0d16df                              Она все еще была там.   \n",
       "\n",
       "                                          hypothesis lang_abv language  \n",
       "0  کیسی کے لئے کوئی یادگار نہیں ہوگا, کولمین ہائی...       ur     Urdu  \n",
       "1  عندما يتم إخبارهم بما يجب عليهم فعله ، فشلت ال...       ar   Arabic  \n",
       "2                             Les mères se droguent.       fr   French  \n",
       "3                            IMA与其他组织合作，因为它们都依靠共享资金。       zh  Chinese  \n",
       "4     Мы думали, что она ушла, однако, она осталась.       ru  Russian  "
      ]
     },
     "execution_count": 5,
     "metadata": {},
     "output_type": "execute_result"
    }
   ],
   "source": [
    "df_test.head()"
   ]
  },
  {
   "cell_type": "code",
   "execution_count": 6,
   "metadata": {
    "execution": {
     "iopub.execute_input": "2021-05-06T09:11:40.047112Z",
     "iopub.status.busy": "2021-05-06T09:11:40.046346Z",
     "iopub.status.idle": "2021-05-06T09:11:40.049691Z",
     "shell.execute_reply": "2021-05-06T09:11:40.050146Z"
    },
    "papermill": {
     "duration": 0.040325,
     "end_time": "2021-05-06T09:11:40.050279",
     "exception": false,
     "start_time": "2021-05-06T09:11:40.009954",
     "status": "completed"
    },
    "tags": []
   },
   "outputs": [
    {
     "data": {
      "text/plain": [
       "id            0\n",
       "premise       0\n",
       "hypothesis    0\n",
       "lang_abv      0\n",
       "language      0\n",
       "dtype: int64"
      ]
     },
     "execution_count": 6,
     "metadata": {},
     "output_type": "execute_result"
    }
   ],
   "source": [
    "df_test.isnull().sum()"
   ]
  },
  {
   "cell_type": "markdown",
   "metadata": {
    "papermill": {
     "duration": 0.028374,
     "end_time": "2021-05-06T09:11:40.107169",
     "exception": false,
     "start_time": "2021-05-06T09:11:40.078795",
     "status": "completed"
    },
    "tags": []
   },
   "source": [
    "No null values in both train and test data"
   ]
  },
  {
   "cell_type": "code",
   "execution_count": 7,
   "metadata": {
    "_kg_hide-input": true,
    "execution": {
     "iopub.execute_input": "2021-05-06T09:11:40.178327Z",
     "iopub.status.busy": "2021-05-06T09:11:40.177730Z",
     "iopub.status.idle": "2021-05-06T09:11:40.458799Z",
     "shell.execute_reply": "2021-05-06T09:11:40.459244Z"
    },
    "papermill": {
     "duration": 0.324577,
     "end_time": "2021-05-06T09:11:40.459368",
     "exception": false,
     "start_time": "2021-05-06T09:11:40.134791",
     "status": "completed"
    },
    "tags": []
   },
   "outputs": [
    {
     "data": {
      "text/plain": [
       "Text(0.13, 0.95, 'Train vs Test: Language Count')"
      ]
     },
     "execution_count": 7,
     "metadata": {},
     "output_type": "execute_result"
    },
    {
     "data": {
      "image/png": "[encoded data removed]",
      "text/plain": [
       "<Figure size 1080x576 with 2 Axes>"
      ]
     },
     "metadata": {
      "needs_background": "light"
     },
     "output_type": "display_data"
    }
   ],
   "source": [
    "train_language_cnt = df_train['language'].value_counts(sort=False)\n",
    "test_language_cnt = df_test['language'].value_counts(sort=False)[train_language_cnt.index]\n",
    "fig,axes = plt.subplots(nrows=1,ncols=2,figsize=(15,8),sharey=True)\n",
    "for i,cnt in enumerate([train_language_cnt,test_language_cnt]):\n",
    "    axes[i].barh(cnt.index,cnt.values,\n",
    "            height=0.5, edgecolor='darkgrey',\n",
    "            color=sns.color_palette()[i],alpha=0.7)\n",
    "    axes[i].set_yticklabels(cnt.index,fontsize=15)\n",
    "    axes[i].set_xticks([])\n",
    "\n",
    "    for j in axes[i].patches:\n",
    "        axes[i].text(j.get_width()+.5, j.get_y()+.2,\n",
    "                str(j.get_width()), \n",
    "                fontsize=13, color='black')\n",
    "\n",
    "    for pos in ['left','right','bottom','top']:\n",
    "        axes[i].spines[pos].set_color(None)\n",
    "\n",
    "    #axes[i].grid(axis='x',linestyle='-',alpha=0.4)\n",
    "    #axes[i].invert_yaxis()\n",
    "fig.text(0.13, 0.95, 'Train vs Test: Language Count', fontsize=15, fontweight='bold') "
   ]
  },
  {
   "cell_type": "markdown",
   "metadata": {
    "papermill": {
     "duration": 0.030729,
     "end_time": "2021-05-06T09:11:40.520165",
     "exception": false,
     "start_time": "2021-05-06T09:11:40.489436",
     "status": "completed"
    },
    "tags": []
   },
   "source": [
    "English take the dominant place in both train and test data."
   ]
  },
  {
   "cell_type": "code",
   "execution_count": 8,
   "metadata": {
    "_kg_hide-input": true,
    "execution": {
     "iopub.execute_input": "2021-05-06T09:11:40.588007Z",
     "iopub.status.busy": "2021-05-06T09:11:40.587448Z",
     "iopub.status.idle": "2021-05-06T09:11:40.741659Z",
     "shell.execute_reply": "2021-05-06T09:11:40.740665Z"
    },
    "papermill": {
     "duration": 0.191823,
     "end_time": "2021-05-06T09:11:40.741777",
     "exception": false,
     "start_time": "2021-05-06T09:11:40.549954",
     "status": "completed"
    },
    "tags": []
   },
   "outputs": [
    {
     "data": {
      "text/html": [
       "        <script type=\"text/javascript\">\n",
       "        window.PlotlyConfig = {MathJaxConfig: 'local'};\n",
       "        if (window.MathJax) {MathJax.Hub.Config({SVG: {font: \"STIX-Web\"}});}\n",
       "        if (typeof require !== 'undefined') {\n",
       "        require.undef(\"plotly\");\n",
       "        requirejs.config({\n",
       "            paths: {\n",
       "                'plotly': ['https://cdn.plot.ly/plotly-latest.min']\n",
       "            }\n",
       "        });\n",
       "        require(['plotly'], function(Plotly) {\n",
       "            window._Plotly = Plotly;\n",
       "        });\n",
       "        }\n",
       "        </script>\n",
       "        "
      ]
     },
     "metadata": {},
     "output_type": "display_data"
    },
    {
     "data": {
      "text/html": [
       "<div>                            <div id=\"c3066e49-b173-417f-b3fd-19805d8d6604\" class=\"plotly-graph-div\" style=\"height:500px; width:500px;\"></div>            <script type=\"text/javascript\">                require([\"plotly\"], function(Plotly) {                    window.PLOTLYENV=window.PLOTLYENV || {};                                    if (document.getElementById(\"c3066e49-b173-417f-b3fd-19805d8d6604\")) {                    Plotly.newPlot(                        \"c3066e49-b173-417f-b3fd-19805d8d6604\",                        [{\"hole\": 0.3, \"hoverinfo\": \"percent+value+label\", \"labels\": [0, 2, 1], \"marker\": {\"line\": {\"color\": \"black\", \"width\": 2}}, \"showlegend\": true, \"textfont\": {\"size\": 14}, \"textinfo\": \"percent\", \"textposition\": \"inside\", \"title\": {\"font\": {\"size\": 15}, \"text\": \"Label\"}, \"type\": \"pie\", \"values\": [4176, 4064, 3880]}],                        {\"height\": 500, \"template\": {\"data\": {\"bar\": [{\"error_x\": {\"color\": \"#2a3f5f\"}, \"error_y\": {\"color\": \"#2a3f5f\"}, \"marker\": {\"line\": {\"color\": \"#E5ECF6\", \"width\": 0.5}}, \"type\": \"bar\"}], \"barpolar\": [{\"marker\": {\"line\": {\"color\": \"#E5ECF6\", \"width\": 0.5}}, \"type\": \"barpolar\"}], \"carpet\": [{\"aaxis\": {\"endlinecolor\": \"#2a3f5f\", \"gridcolor\": \"white\", \"linecolor\": \"white\", \"minorgridcolor\": \"white\", \"startlinecolor\": \"#2a3f5f\"}, \"baxis\": {\"endlinecolor\": \"#2a3f5f\", \"gridcolor\": \"white\", \"linecolor\": \"white\", \"minorgridcolor\": \"white\", \"startlinecolor\": \"#2a3f5f\"}, \"type\": \"carpet\"}], \"choropleth\": [{\"colorbar\": {\"outlinewidth\": 0, \"ticks\": \"\"}, \"type\": \"choropleth\"}], \"contour\": [{\"colorbar\": {\"outlinewidth\": 0, \"ticks\": \"\"}, \"colorscale\": [[0.0, \"#0d0887\"], [0.1111111111111111, \"#46039f\"], [0.2222222222222222, \"#7201a8\"], [0.3333333333333333, \"#9c179e\"], [0.4444444444444444, \"#bd3786\"], [0.5555555555555556, \"#d8576b\"], [0.6666666666666666, \"#ed7953\"], [0.7777777777777778, \"#fb9f3a\"], [0.8888888888888888, \"#fdca26\"], [1.0, \"#f0f921\"]], \"type\": \"contour\"}], \"contourcarpet\": [{\"colorbar\": {\"outlinewidth\": 0, \"ticks\": \"\"}, \"type\": \"contourcarpet\"}], \"heatmap\": [{\"colorbar\": {\"outlinewidth\": 0, \"ticks\": \"\"}, \"colorscale\": [[0.0, \"#0d0887\"], [0.1111111111111111, \"#46039f\"], [0.2222222222222222, \"#7201a8\"], [0.3333333333333333, \"#9c179e\"], [0.4444444444444444, \"#bd3786\"], [0.5555555555555556, \"#d8576b\"], [0.6666666666666666, \"#ed7953\"], [0.7777777777777778, \"#fb9f3a\"], [0.8888888888888888, \"#fdca26\"], [1.0, \"#f0f921\"]], \"type\": \"heatmap\"}], \"heatmapgl\": [{\"colorbar\": {\"outlinewidth\": 0, \"ticks\": \"\"}, \"colorscale\": [[0.0, \"#0d0887\"], [0.1111111111111111, \"#46039f\"], [0.2222222222222222, \"#7201a8\"], [0.3333333333333333, \"#9c179e\"], [0.4444444444444444, \"#bd3786\"], [0.5555555555555556, \"#d8576b\"], [0.6666666666666666, \"#ed7953\"], [0.7777777777777778, \"#fb9f3a\"], [0.8888888888888888, \"#fdca26\"], [1.0, \"#f0f921\"]], \"type\": \"heatmapgl\"}], \"histogram\": [{\"marker\": {\"colorbar\": {\"outlinewidth\": 0, \"ticks\": \"\"}}, \"type\": \"histogram\"}], \"histogram2d\": [{\"colorbar\": {\"outlinewidth\": 0, \"ticks\": \"\"}, \"colorscale\": [[0.0, \"#0d0887\"], [0.1111111111111111, \"#46039f\"], [0.2222222222222222, \"#7201a8\"], [0.3333333333333333, \"#9c179e\"], [0.4444444444444444, \"#bd3786\"], [0.5555555555555556, \"#d8576b\"], [0.6666666666666666, \"#ed7953\"], [0.7777777777777778, \"#fb9f3a\"], [0.8888888888888888, \"#fdca26\"], [1.0, \"#f0f921\"]], \"type\": \"histogram2d\"}], \"histogram2dcontour\": [{\"colorbar\": {\"outlinewidth\": 0, \"ticks\": \"\"}, \"colorscale\": [[0.0, \"#0d0887\"], [0.1111111111111111, \"#46039f\"], [0.2222222222222222, \"#7201a8\"], [0.3333333333333333, \"#9c179e\"], [0.4444444444444444, \"#bd3786\"], [0.5555555555555556, \"#d8576b\"], [0.6666666666666666, \"#ed7953\"], [0.7777777777777778, \"#fb9f3a\"], [0.8888888888888888, \"#fdca26\"], [1.0, \"#f0f921\"]], \"type\": \"histogram2dcontour\"}], \"mesh3d\": [{\"colorbar\": {\"outlinewidth\": 0, \"ticks\": \"\"}, \"type\": \"mesh3d\"}], \"parcoords\": [{\"line\": {\"colorbar\": {\"outlinewidth\": 0, \"ticks\": \"\"}}, \"type\": \"parcoords\"}], \"pie\": [{\"automargin\": true, \"type\": \"pie\"}], \"scatter\": [{\"marker\": {\"colorbar\": {\"outlinewidth\": 0, \"ticks\": \"\"}}, \"type\": \"scatter\"}], \"scatter3d\": [{\"line\": {\"colorbar\": {\"outlinewidth\": 0, \"ticks\": \"\"}}, \"marker\": {\"colorbar\": {\"outlinewidth\": 0, \"ticks\": \"\"}}, \"type\": \"scatter3d\"}], \"scattercarpet\": [{\"marker\": {\"colorbar\": {\"outlinewidth\": 0, \"ticks\": \"\"}}, \"type\": \"scattercarpet\"}], \"scattergeo\": [{\"marker\": {\"colorbar\": {\"outlinewidth\": 0, \"ticks\": \"\"}}, \"type\": \"scattergeo\"}], \"scattergl\": [{\"marker\": {\"colorbar\": {\"outlinewidth\": 0, \"ticks\": \"\"}}, \"type\": \"scattergl\"}], \"scattermapbox\": [{\"marker\": {\"colorbar\": {\"outlinewidth\": 0, \"ticks\": \"\"}}, \"type\": \"scattermapbox\"}], \"scatterpolar\": [{\"marker\": {\"colorbar\": {\"outlinewidth\": 0, \"ticks\": \"\"}}, \"type\": \"scatterpolar\"}], \"scatterpolargl\": [{\"marker\": {\"colorbar\": {\"outlinewidth\": 0, \"ticks\": \"\"}}, \"type\": \"scatterpolargl\"}], \"scatterternary\": [{\"marker\": {\"colorbar\": {\"outlinewidth\": 0, \"ticks\": \"\"}}, \"type\": \"scatterternary\"}], \"surface\": [{\"colorbar\": {\"outlinewidth\": 0, \"ticks\": \"\"}, \"colorscale\": [[0.0, \"#0d0887\"], [0.1111111111111111, \"#46039f\"], [0.2222222222222222, \"#7201a8\"], [0.3333333333333333, \"#9c179e\"], [0.4444444444444444, \"#bd3786\"], [0.5555555555555556, \"#d8576b\"], [0.6666666666666666, \"#ed7953\"], [0.7777777777777778, \"#fb9f3a\"], [0.8888888888888888, \"#fdca26\"], [1.0, \"#f0f921\"]], \"type\": \"surface\"}], \"table\": [{\"cells\": {\"fill\": {\"color\": \"#EBF0F8\"}, \"line\": {\"color\": \"white\"}}, \"header\": {\"fill\": {\"color\": \"#C8D4E3\"}, \"line\": {\"color\": \"white\"}}, \"type\": \"table\"}]}, \"layout\": {\"annotationdefaults\": {\"arrowcolor\": \"#2a3f5f\", \"arrowhead\": 0, \"arrowwidth\": 1}, \"autotypenumbers\": \"strict\", \"coloraxis\": {\"colorbar\": {\"outlinewidth\": 0, \"ticks\": \"\"}}, \"colorscale\": {\"diverging\": [[0, \"#8e0152\"], [0.1, \"#c51b7d\"], [0.2, \"#de77ae\"], [0.3, \"#f1b6da\"], [0.4, \"#fde0ef\"], [0.5, \"#f7f7f7\"], [0.6, \"#e6f5d0\"], [0.7, \"#b8e186\"], [0.8, \"#7fbc41\"], [0.9, \"#4d9221\"], [1, \"#276419\"]], \"sequential\": [[0.0, \"#0d0887\"], [0.1111111111111111, \"#46039f\"], [0.2222222222222222, \"#7201a8\"], [0.3333333333333333, \"#9c179e\"], [0.4444444444444444, \"#bd3786\"], [0.5555555555555556, \"#d8576b\"], [0.6666666666666666, \"#ed7953\"], [0.7777777777777778, \"#fb9f3a\"], [0.8888888888888888, \"#fdca26\"], [1.0, \"#f0f921\"]], \"sequentialminus\": [[0.0, \"#0d0887\"], [0.1111111111111111, \"#46039f\"], [0.2222222222222222, \"#7201a8\"], [0.3333333333333333, \"#9c179e\"], [0.4444444444444444, \"#bd3786\"], [0.5555555555555556, \"#d8576b\"], [0.6666666666666666, \"#ed7953\"], [0.7777777777777778, \"#fb9f3a\"], [0.8888888888888888, \"#fdca26\"], [1.0, \"#f0f921\"]]}, \"colorway\": [\"#636efa\", \"#EF553B\", \"#00cc96\", \"#ab63fa\", \"#FFA15A\", \"#19d3f3\", \"#FF6692\", \"#B6E880\", \"#FF97FF\", \"#FECB52\"], \"font\": {\"color\": \"#2a3f5f\"}, \"geo\": {\"bgcolor\": \"white\", \"lakecolor\": \"white\", \"landcolor\": \"#E5ECF6\", \"showlakes\": true, \"showland\": true, \"subunitcolor\": \"white\"}, \"hoverlabel\": {\"align\": \"left\"}, \"hovermode\": \"closest\", \"mapbox\": {\"style\": \"light\"}, \"paper_bgcolor\": \"white\", \"plot_bgcolor\": \"#E5ECF6\", \"polar\": {\"angularaxis\": {\"gridcolor\": \"white\", \"linecolor\": \"white\", \"ticks\": \"\"}, \"bgcolor\": \"#E5ECF6\", \"radialaxis\": {\"gridcolor\": \"white\", \"linecolor\": \"white\", \"ticks\": \"\"}}, \"scene\": {\"xaxis\": {\"backgroundcolor\": \"#E5ECF6\", \"gridcolor\": \"white\", \"gridwidth\": 2, \"linecolor\": \"white\", \"showbackground\": true, \"ticks\": \"\", \"zerolinecolor\": \"white\"}, \"yaxis\": {\"backgroundcolor\": \"#E5ECF6\", \"gridcolor\": \"white\", \"gridwidth\": 2, \"linecolor\": \"white\", \"showbackground\": true, \"ticks\": \"\", \"zerolinecolor\": \"white\"}, \"zaxis\": {\"backgroundcolor\": \"#E5ECF6\", \"gridcolor\": \"white\", \"gridwidth\": 2, \"linecolor\": \"white\", \"showbackground\": true, \"ticks\": \"\", \"zerolinecolor\": \"white\"}}, \"shapedefaults\": {\"line\": {\"color\": \"#2a3f5f\"}}, \"ternary\": {\"aaxis\": {\"gridcolor\": \"white\", \"linecolor\": \"white\", \"ticks\": \"\"}, \"baxis\": {\"gridcolor\": \"white\", \"linecolor\": \"white\", \"ticks\": \"\"}, \"bgcolor\": \"#E5ECF6\", \"caxis\": {\"gridcolor\": \"white\", \"linecolor\": \"white\", \"ticks\": \"\"}}, \"title\": {\"x\": 0.05}, \"xaxis\": {\"automargin\": true, \"gridcolor\": \"white\", \"linecolor\": \"white\", \"ticks\": \"\", \"title\": {\"standoff\": 15}, \"zerolinecolor\": \"white\", \"zerolinewidth\": 2}, \"yaxis\": {\"automargin\": true, \"gridcolor\": \"white\", \"linecolor\": \"white\", \"ticks\": \"\", \"title\": {\"standoff\": 15}, \"zerolinecolor\": \"white\", \"zerolinewidth\": 2}}}, \"width\": 500},                        {\"responsive\": true}                    ).then(function(){\n",
       "                            \n",
       "var gd = document.getElementById('c3066e49-b173-417f-b3fd-19805d8d6604');\n",
       "var x = new MutationObserver(function (mutations, observer) {{\n",
       "        var display = window.getComputedStyle(gd).display;\n",
       "        if (!display || display === 'none') {{\n",
       "            console.log([gd, 'removed!']);\n",
       "            Plotly.purge(gd);\n",
       "            observer.disconnect();\n",
       "        }}\n",
       "}});\n",
       "\n",
       "// Listen for the removal of the full notebook cells\n",
       "var notebookContainer = gd.closest('#notebook-container');\n",
       "if (notebookContainer) {{\n",
       "    x.observe(notebookContainer, {childList: true});\n",
       "}}\n",
       "\n",
       "// Listen for the clearing of the current output cell\n",
       "var outputEl = gd.closest('.output');\n",
       "if (outputEl) {{\n",
       "    x.observe(outputEl, {childList: true});\n",
       "}}\n",
       "\n",
       "                        })                };                });            </script>        </div>"
      ]
     },
     "metadata": {},
     "output_type": "display_data"
    }
   ],
   "source": [
    "label_cnt = df_train['label'].value_counts()\n",
    "trace = go.Pie(labels = label_cnt.index, \n",
    "               values = label_cnt.values,\n",
    "               hoverinfo = 'percent+value+label',\n",
    "               textinfo = 'percent',\n",
    "               textposition = 'inside',\n",
    "               textfont = dict(size=14),\n",
    "               title = 'Label',\n",
    "               titlefont = dict(size=15),\n",
    "               hole = 0.3,\n",
    "               showlegend = True,\n",
    "               marker = dict(line=dict(color='black',width=2)))\n",
    "fig = go.Figure(data=[trace])\n",
    "fig.update_layout(height=500, width=500)\n",
    "fig.show()"
   ]
  },
  {
   "cell_type": "code",
   "execution_count": 9,
   "metadata": {
    "_kg_hide-input": true,
    "execution": {
     "iopub.execute_input": "2021-05-06T09:11:40.821055Z",
     "iopub.status.busy": "2021-05-06T09:11:40.820538Z",
     "iopub.status.idle": "2021-05-06T09:11:41.022528Z",
     "shell.execute_reply": "2021-05-06T09:11:41.022962Z"
    },
    "papermill": {
     "duration": 0.244205,
     "end_time": "2021-05-06T09:11:41.023084",
     "exception": false,
     "start_time": "2021-05-06T09:11:40.778879",
     "status": "completed"
    },
    "tags": []
   },
   "outputs": [
    {
     "data": {
      "text/html": [
       "<div>                            <div id=\"5e998c08-a367-420d-b9b8-c2e01718e927\" class=\"plotly-graph-div\" style=\"height:750px; width:750px;\"></div>            <script type=\"text/javascript\">                require([\"plotly\"], function(Plotly) {                    window.PLOTLYENV=window.PLOTLYENV || {};                                    if (document.getElementById(\"5e998c08-a367-420d-b9b8-c2e01718e927\")) {                    Plotly.newPlot(                        \"5e998c08-a367-420d-b9b8-c2e01718e927\",                        [{\"domain\": {\"x\": [0.0, 0.33], \"y\": [0.808, 1.0]}, \"hole\": 0.5, \"hoverinfo\": \"percent+value+label\", \"labels\": [1, 0, 2], \"marker\": {\"line\": {\"color\": \"black\", \"width\": 2}}, \"showlegend\": true, \"textfont\": {\"size\": 14}, \"textinfo\": \"percent\", \"textposition\": \"inside\", \"title\": {\"font\": {\"size\": 15}, \"text\": \"Vietnamese\"}, \"type\": \"pie\", \"values\": [149, 122, 108]}, {\"domain\": {\"x\": [0.335, 0.665], \"y\": [0.808, 1.0]}, \"hole\": 0.5, \"hoverinfo\": \"percent+value+label\", \"labels\": [1, 2, 0], \"marker\": {\"line\": {\"color\": \"black\", \"width\": 2}}, \"showlegend\": true, \"textfont\": {\"size\": 14}, \"textinfo\": \"percent\", \"textposition\": \"inside\", \"title\": {\"font\": {\"size\": 15}, \"text\": \"Greek\"}, \"type\": \"pie\", \"values\": [127, 125, 120]}, {\"domain\": {\"x\": [0.67, 1.0], \"y\": [0.808, 1.0]}, \"hole\": 0.5, \"hoverinfo\": \"percent+value+label\", \"labels\": [1, 0, 2], \"marker\": {\"line\": {\"color\": \"black\", \"width\": 2}}, \"showlegend\": true, \"textfont\": {\"size\": 14}, \"textinfo\": \"percent\", \"textposition\": \"inside\", \"title\": {\"font\": {\"size\": 15}, \"text\": \"Chinese\"}, \"type\": \"pie\", \"values\": [146, 140, 125]}, {\"domain\": {\"x\": [0.0, 0.33], \"y\": [0.6060000000000001, 0.798]}, \"hole\": 0.5, \"hoverinfo\": \"percent+value+label\", \"labels\": [2, 0, 1], \"marker\": {\"line\": {\"color\": \"black\", \"width\": 2}}, \"showlegend\": true, \"textfont\": {\"size\": 14}, \"textinfo\": \"percent\", \"textposition\": \"inside\", \"title\": {\"font\": {\"size\": 15}, \"text\": \"Spanish\"}, \"type\": \"pie\", \"values\": [136, 118, 112]}, {\"domain\": {\"x\": [0.335, 0.665], \"y\": [0.6060000000000001, 0.798]}, \"hole\": 0.5, \"hoverinfo\": \"percent+value+label\", \"labels\": [0, 2, 1], \"marker\": {\"line\": {\"color\": \"black\", \"width\": 2}}, \"showlegend\": true, \"textfont\": {\"size\": 14}, \"textinfo\": \"percent\", \"textposition\": \"inside\", \"title\": {\"font\": {\"size\": 15}, \"text\": \"Swahili\"}, \"type\": \"pie\", \"values\": [140, 136, 109]}, {\"domain\": {\"x\": [0.67, 1.0], \"y\": [0.6060000000000001, 0.798]}, \"hole\": 0.5, \"hoverinfo\": \"percent+value+label\", \"labels\": [0, 1, 2], \"marker\": {\"line\": {\"color\": \"black\", \"width\": 2}}, \"showlegend\": true, \"textfont\": {\"size\": 14}, \"textinfo\": \"percent\", \"textposition\": \"inside\", \"title\": {\"font\": {\"size\": 15}, \"text\": \"Bulgarian\"}, \"type\": \"pie\", \"values\": [123, 111, 108]}, {\"domain\": {\"x\": [0.0, 0.33], \"y\": [0.404, 0.5960000000000001]}, \"hole\": 0.5, \"hoverinfo\": \"percent+value+label\", \"labels\": [0, 1, 2], \"marker\": {\"line\": {\"color\": \"black\", \"width\": 2}}, \"showlegend\": true, \"textfont\": {\"size\": 14}, \"textinfo\": \"percent\", \"textposition\": \"inside\", \"title\": {\"font\": {\"size\": 15}, \"text\": \"French\"}, \"type\": \"pie\", \"values\": [133, 129, 128]}, {\"domain\": {\"x\": [0.335, 0.665], \"y\": [0.404, 0.5960000000000001]}, \"hole\": 0.5, \"hoverinfo\": \"percent+value+label\", \"labels\": [1, 2, 0], \"marker\": {\"line\": {\"color\": \"black\", \"width\": 2}}, \"showlegend\": true, \"textfont\": {\"size\": 14}, \"textinfo\": \"percent\", \"textposition\": \"inside\", \"title\": {\"font\": {\"size\": 15}, \"text\": \"Thai\"}, \"type\": \"pie\", \"values\": [126, 124, 121]}, {\"domain\": {\"x\": [0.67, 1.0], \"y\": [0.404, 0.5960000000000001]}, \"hole\": 0.5, \"hoverinfo\": \"percent+value+label\", \"labels\": [2, 1, 0], \"marker\": {\"line\": {\"color\": \"black\", \"width\": 2}}, \"showlegend\": true, \"textfont\": {\"size\": 14}, \"textinfo\": \"percent\", \"textposition\": \"inside\", \"title\": {\"font\": {\"size\": 15}, \"text\": \"Arabic\"}, \"type\": \"pie\", \"values\": [148, 129, 124]}, {\"domain\": {\"x\": [0.0, 0.33], \"y\": [0.202, 0.394]}, \"hole\": 0.5, \"hoverinfo\": \"percent+value+label\", \"labels\": [2, 0, 1], \"marker\": {\"line\": {\"color\": \"black\", \"width\": 2}}, \"showlegend\": true, \"textfont\": {\"size\": 14}, \"textinfo\": \"percent\", \"textposition\": \"inside\", \"title\": {\"font\": {\"size\": 15}, \"text\": \"Hindi\"}, \"type\": \"pie\", \"values\": [137, 125, 112]}, {\"domain\": {\"x\": [0.335, 0.665], \"y\": [0.202, 0.394]}, \"hole\": 0.5, \"hoverinfo\": \"percent+value+label\", \"labels\": [0, 2, 1], \"marker\": {\"line\": {\"color\": \"black\", \"width\": 2}}, \"showlegend\": true, \"textfont\": {\"size\": 14}, \"textinfo\": \"percent\", \"textposition\": \"inside\", \"title\": {\"font\": {\"size\": 15}, \"text\": \"English\"}, \"type\": \"pie\", \"values\": [2427, 2277, 2166]}, {\"domain\": {\"x\": [0.67, 1.0], \"y\": [0.202, 0.394]}, \"hole\": 0.5, \"hoverinfo\": \"percent+value+label\", \"labels\": [0, 1, 2], \"marker\": {\"line\": {\"color\": \"black\", \"width\": 2}}, \"showlegend\": true, \"textfont\": {\"size\": 14}, \"textinfo\": \"percent\", \"textposition\": \"inside\", \"title\": {\"font\": {\"size\": 15}, \"text\": \"Russian\"}, \"type\": \"pie\", \"values\": [132, 124, 120]}, {\"domain\": {\"x\": [0.0, 0.33], \"y\": [0.0, 0.192]}, \"hole\": 0.5, \"hoverinfo\": \"percent+value+label\", \"labels\": [2, 1, 0], \"marker\": {\"line\": {\"color\": \"black\", \"width\": 2}}, \"showlegend\": true, \"textfont\": {\"size\": 14}, \"textinfo\": \"percent\", \"textposition\": \"inside\", \"title\": {\"font\": {\"size\": 15}, \"text\": \"German\"}, \"type\": \"pie\", \"values\": [127, 116, 108]}, {\"domain\": {\"x\": [0.335, 0.665], \"y\": [0.0, 0.192]}, \"hole\": 0.5, \"hoverinfo\": \"percent+value+label\", \"labels\": [2, 1, 0], \"marker\": {\"line\": {\"color\": \"black\", \"width\": 2}}, \"showlegend\": true, \"textfont\": {\"size\": 14}, \"textinfo\": \"percent\", \"textposition\": \"inside\", \"title\": {\"font\": {\"size\": 15}, \"text\": \"Turkish\"}, \"type\": \"pie\", \"values\": [127, 114, 110]}, {\"domain\": {\"x\": [0.67, 1.0], \"y\": [0.0, 0.192]}, \"hole\": 0.5, \"hoverinfo\": \"percent+value+label\", \"labels\": [2, 0, 1], \"marker\": {\"line\": {\"color\": \"black\", \"width\": 2}}, \"showlegend\": true, \"textfont\": {\"size\": 14}, \"textinfo\": \"percent\", \"textposition\": \"inside\", \"title\": {\"font\": {\"size\": 15}, \"text\": \"Urdu\"}, \"type\": \"pie\", \"values\": [138, 133, 110]}],                        {\"height\": 750, \"template\": {\"data\": {\"bar\": [{\"error_x\": {\"color\": \"#2a3f5f\"}, \"error_y\": {\"color\": \"#2a3f5f\"}, \"marker\": {\"line\": {\"color\": \"#E5ECF6\", \"width\": 0.5}}, \"type\": \"bar\"}], \"barpolar\": [{\"marker\": {\"line\": {\"color\": \"#E5ECF6\", \"width\": 0.5}}, \"type\": \"barpolar\"}], \"carpet\": [{\"aaxis\": {\"endlinecolor\": \"#2a3f5f\", \"gridcolor\": \"white\", \"linecolor\": \"white\", \"minorgridcolor\": \"white\", \"startlinecolor\": \"#2a3f5f\"}, \"baxis\": {\"endlinecolor\": \"#2a3f5f\", \"gridcolor\": \"white\", \"linecolor\": \"white\", \"minorgridcolor\": \"white\", \"startlinecolor\": \"#2a3f5f\"}, \"type\": \"carpet\"}], \"choropleth\": [{\"colorbar\": {\"outlinewidth\": 0, \"ticks\": \"\"}, \"type\": \"choropleth\"}], \"contour\": [{\"colorbar\": {\"outlinewidth\": 0, \"ticks\": \"\"}, \"colorscale\": [[0.0, \"#0d0887\"], [0.1111111111111111, \"#46039f\"], [0.2222222222222222, \"#7201a8\"], [0.3333333333333333, \"#9c179e\"], [0.4444444444444444, \"#bd3786\"], [0.5555555555555556, \"#d8576b\"], [0.6666666666666666, \"#ed7953\"], [0.7777777777777778, \"#fb9f3a\"], [0.8888888888888888, \"#fdca26\"], [1.0, \"#f0f921\"]], \"type\": \"contour\"}], \"contourcarpet\": [{\"colorbar\": {\"outlinewidth\": 0, \"ticks\": \"\"}, \"type\": \"contourcarpet\"}], \"heatmap\": [{\"colorbar\": {\"outlinewidth\": 0, \"ticks\": \"\"}, \"colorscale\": [[0.0, \"#0d0887\"], [0.1111111111111111, \"#46039f\"], [0.2222222222222222, \"#7201a8\"], [0.3333333333333333, \"#9c179e\"], [0.4444444444444444, \"#bd3786\"], [0.5555555555555556, \"#d8576b\"], [0.6666666666666666, \"#ed7953\"], [0.7777777777777778, \"#fb9f3a\"], [0.8888888888888888, \"#fdca26\"], [1.0, \"#f0f921\"]], \"type\": \"heatmap\"}], \"heatmapgl\": [{\"colorbar\": {\"outlinewidth\": 0, \"ticks\": \"\"}, \"colorscale\": [[0.0, \"#0d0887\"], [0.1111111111111111, \"#46039f\"], [0.2222222222222222, \"#7201a8\"], [0.3333333333333333, \"#9c179e\"], [0.4444444444444444, \"#bd3786\"], [0.5555555555555556, \"#d8576b\"], [0.6666666666666666, \"#ed7953\"], [0.7777777777777778, \"#fb9f3a\"], [0.8888888888888888, \"#fdca26\"], [1.0, \"#f0f921\"]], \"type\": \"heatmapgl\"}], \"histogram\": [{\"marker\": {\"colorbar\": {\"outlinewidth\": 0, \"ticks\": \"\"}}, \"type\": \"histogram\"}], \"histogram2d\": [{\"colorbar\": {\"outlinewidth\": 0, \"ticks\": \"\"}, \"colorscale\": [[0.0, \"#0d0887\"], [0.1111111111111111, \"#46039f\"], [0.2222222222222222, \"#7201a8\"], [0.3333333333333333, \"#9c179e\"], [0.4444444444444444, \"#bd3786\"], [0.5555555555555556, \"#d8576b\"], [0.6666666666666666, \"#ed7953\"], [0.7777777777777778, \"#fb9f3a\"], [0.8888888888888888, \"#fdca26\"], [1.0, \"#f0f921\"]], \"type\": \"histogram2d\"}], \"histogram2dcontour\": [{\"colorbar\": {\"outlinewidth\": 0, \"ticks\": \"\"}, \"colorscale\": [[0.0, \"#0d0887\"], [0.1111111111111111, \"#46039f\"], [0.2222222222222222, \"#7201a8\"], [0.3333333333333333, \"#9c179e\"], [0.4444444444444444, \"#bd3786\"], [0.5555555555555556, \"#d8576b\"], [0.6666666666666666, \"#ed7953\"], [0.7777777777777778, \"#fb9f3a\"], [0.8888888888888888, \"#fdca26\"], [1.0, \"#f0f921\"]], \"type\": \"histogram2dcontour\"}], \"mesh3d\": [{\"colorbar\": {\"outlinewidth\": 0, \"ticks\": \"\"}, \"type\": \"mesh3d\"}], \"parcoords\": [{\"line\": {\"colorbar\": {\"outlinewidth\": 0, \"ticks\": \"\"}}, \"type\": \"parcoords\"}], \"pie\": [{\"automargin\": true, \"type\": \"pie\"}], \"scatter\": [{\"marker\": {\"colorbar\": {\"outlinewidth\": 0, \"ticks\": \"\"}}, \"type\": \"scatter\"}], \"scatter3d\": [{\"line\": {\"colorbar\": {\"outlinewidth\": 0, \"ticks\": \"\"}}, \"marker\": {\"colorbar\": {\"outlinewidth\": 0, \"ticks\": \"\"}}, \"type\": \"scatter3d\"}], \"scattercarpet\": [{\"marker\": {\"colorbar\": {\"outlinewidth\": 0, \"ticks\": \"\"}}, \"type\": \"scattercarpet\"}], \"scattergeo\": [{\"marker\": {\"colorbar\": {\"outlinewidth\": 0, \"ticks\": \"\"}}, \"type\": \"scattergeo\"}], \"scattergl\": [{\"marker\": {\"colorbar\": {\"outlinewidth\": 0, \"ticks\": \"\"}}, \"type\": \"scattergl\"}], \"scattermapbox\": [{\"marker\": {\"colorbar\": {\"outlinewidth\": 0, \"ticks\": \"\"}}, \"type\": \"scattermapbox\"}], \"scatterpolar\": [{\"marker\": {\"colorbar\": {\"outlinewidth\": 0, \"ticks\": \"\"}}, \"type\": \"scatterpolar\"}], \"scatterpolargl\": [{\"marker\": {\"colorbar\": {\"outlinewidth\": 0, \"ticks\": \"\"}}, \"type\": \"scatterpolargl\"}], \"scatterternary\": [{\"marker\": {\"colorbar\": {\"outlinewidth\": 0, \"ticks\": \"\"}}, \"type\": \"scatterternary\"}], \"surface\": [{\"colorbar\": {\"outlinewidth\": 0, \"ticks\": \"\"}, \"colorscale\": [[0.0, \"#0d0887\"], [0.1111111111111111, \"#46039f\"], [0.2222222222222222, \"#7201a8\"], [0.3333333333333333, \"#9c179e\"], [0.4444444444444444, \"#bd3786\"], [0.5555555555555556, \"#d8576b\"], [0.6666666666666666, \"#ed7953\"], [0.7777777777777778, \"#fb9f3a\"], [0.8888888888888888, \"#fdca26\"], [1.0, \"#f0f921\"]], \"type\": \"surface\"}], \"table\": [{\"cells\": {\"fill\": {\"color\": \"#EBF0F8\"}, \"line\": {\"color\": \"white\"}}, \"header\": {\"fill\": {\"color\": \"#C8D4E3\"}, \"line\": {\"color\": \"white\"}}, \"type\": \"table\"}]}, \"layout\": {\"annotationdefaults\": {\"arrowcolor\": \"#2a3f5f\", \"arrowhead\": 0, \"arrowwidth\": 1}, \"autotypenumbers\": \"strict\", \"coloraxis\": {\"colorbar\": {\"outlinewidth\": 0, \"ticks\": \"\"}}, \"colorscale\": {\"diverging\": [[0, \"#8e0152\"], [0.1, \"#c51b7d\"], [0.2, \"#de77ae\"], [0.3, \"#f1b6da\"], [0.4, \"#fde0ef\"], [0.5, \"#f7f7f7\"], [0.6, \"#e6f5d0\"], [0.7, \"#b8e186\"], [0.8, \"#7fbc41\"], [0.9, \"#4d9221\"], [1, \"#276419\"]], \"sequential\": [[0.0, \"#0d0887\"], [0.1111111111111111, \"#46039f\"], [0.2222222222222222, \"#7201a8\"], [0.3333333333333333, \"#9c179e\"], [0.4444444444444444, \"#bd3786\"], [0.5555555555555556, \"#d8576b\"], [0.6666666666666666, \"#ed7953\"], [0.7777777777777778, \"#fb9f3a\"], [0.8888888888888888, \"#fdca26\"], [1.0, \"#f0f921\"]], \"sequentialminus\": [[0.0, \"#0d0887\"], [0.1111111111111111, \"#46039f\"], [0.2222222222222222, \"#7201a8\"], [0.3333333333333333, \"#9c179e\"], [0.4444444444444444, \"#bd3786\"], [0.5555555555555556, \"#d8576b\"], [0.6666666666666666, \"#ed7953\"], [0.7777777777777778, \"#fb9f3a\"], [0.8888888888888888, \"#fdca26\"], [1.0, \"#f0f921\"]]}, \"colorway\": [\"#636efa\", \"#EF553B\", \"#00cc96\", \"#ab63fa\", \"#FFA15A\", \"#19d3f3\", \"#FF6692\", \"#B6E880\", \"#FF97FF\", \"#FECB52\"], \"font\": {\"color\": \"#2a3f5f\"}, \"geo\": {\"bgcolor\": \"white\", \"lakecolor\": \"white\", \"landcolor\": \"#E5ECF6\", \"showlakes\": true, \"showland\": true, \"subunitcolor\": \"white\"}, \"hoverlabel\": {\"align\": \"left\"}, \"hovermode\": \"closest\", \"mapbox\": {\"style\": \"light\"}, \"paper_bgcolor\": \"white\", \"plot_bgcolor\": \"#E5ECF6\", \"polar\": {\"angularaxis\": {\"gridcolor\": \"white\", \"linecolor\": \"white\", \"ticks\": \"\"}, \"bgcolor\": \"#E5ECF6\", \"radialaxis\": {\"gridcolor\": \"white\", \"linecolor\": \"white\", \"ticks\": \"\"}}, \"scene\": {\"xaxis\": {\"backgroundcolor\": \"#E5ECF6\", \"gridcolor\": \"white\", \"gridwidth\": 2, \"linecolor\": \"white\", \"showbackground\": true, \"ticks\": \"\", \"zerolinecolor\": \"white\"}, \"yaxis\": {\"backgroundcolor\": \"#E5ECF6\", \"gridcolor\": \"white\", \"gridwidth\": 2, \"linecolor\": \"white\", \"showbackground\": true, \"ticks\": \"\", \"zerolinecolor\": \"white\"}, \"zaxis\": {\"backgroundcolor\": \"#E5ECF6\", \"gridcolor\": \"white\", \"gridwidth\": 2, \"linecolor\": \"white\", \"showbackground\": true, \"ticks\": \"\", \"zerolinecolor\": \"white\"}}, \"shapedefaults\": {\"line\": {\"color\": \"#2a3f5f\"}}, \"ternary\": {\"aaxis\": {\"gridcolor\": \"white\", \"linecolor\": \"white\", \"ticks\": \"\"}, \"baxis\": {\"gridcolor\": \"white\", \"linecolor\": \"white\", \"ticks\": \"\"}, \"bgcolor\": \"#E5ECF6\", \"caxis\": {\"gridcolor\": \"white\", \"linecolor\": \"white\", \"ticks\": \"\"}}, \"title\": {\"x\": 0.05}, \"xaxis\": {\"automargin\": true, \"gridcolor\": \"white\", \"linecolor\": \"white\", \"ticks\": \"\", \"title\": {\"standoff\": 15}, \"zerolinecolor\": \"white\", \"zerolinewidth\": 2}, \"yaxis\": {\"automargin\": true, \"gridcolor\": \"white\", \"linecolor\": \"white\", \"ticks\": \"\", \"title\": {\"standoff\": 15}, \"zerolinecolor\": \"white\", \"zerolinewidth\": 2}}}, \"width\": 750},                        {\"responsive\": true}                    ).then(function(){\n",
       "                            \n",
       "var gd = document.getElementById('5e998c08-a367-420d-b9b8-c2e01718e927');\n",
       "var x = new MutationObserver(function (mutations, observer) {{\n",
       "        var display = window.getComputedStyle(gd).display;\n",
       "        if (!display || display === 'none') {{\n",
       "            console.log([gd, 'removed!']);\n",
       "            Plotly.purge(gd);\n",
       "            observer.disconnect();\n",
       "        }}\n",
       "}});\n",
       "\n",
       "// Listen for the removal of the full notebook cells\n",
       "var notebookContainer = gd.closest('#notebook-container');\n",
       "if (notebookContainer) {{\n",
       "    x.observe(notebookContainer, {childList: true});\n",
       "}}\n",
       "\n",
       "// Listen for the clearing of the current output cell\n",
       "var outputEl = gd.closest('.output');\n",
       "if (outputEl) {{\n",
       "    x.observe(outputEl, {childList: true});\n",
       "}}\n",
       "\n",
       "                        })                };                });            </script>        </div>"
      ]
     },
     "metadata": {},
     "output_type": "display_data"
    }
   ],
   "source": [
    "fig = make_subplots(rows=5, cols=3, specs=[[{\"type\": \"domain\"}]*3]*5,\n",
    "                    horizontal_spacing=0.005,vertical_spacing=0.01)\n",
    "for i,lang in enumerate(list(train_language_cnt.index)): \n",
    "    label_cnt = df_train[df_train.language == lang]['label'].value_counts()\n",
    "    fig.add_trace(go.Pie(labels = label_cnt.index, \n",
    "                   values = label_cnt.values,\n",
    "                   hoverinfo = 'percent+value+label',\n",
    "                   textinfo = 'percent',\n",
    "                   textposition = 'inside',\n",
    "                   textfont = dict(size=14),\n",
    "                   title = lang,\n",
    "                   titlefont = dict(size=15),\n",
    "                   hole = 0.5,\n",
    "                   showlegend = True,\n",
    "                   marker = dict(line=dict(color='black',width=2))),\n",
    "                   row=divmod(i,3)[0]+1,col=divmod(i,3)[1]+1)\n",
    "fig.update_layout(height=750, width=750)\n",
    "fig.show()"
   ]
  },
  {
   "cell_type": "markdown",
   "metadata": {
    "papermill": {
     "duration": 0.031238,
     "end_time": "2021-05-06T09:11:41.085849",
     "exception": false,
     "start_time": "2021-05-06T09:11:41.054611",
     "status": "completed"
    },
    "tags": []
   },
   "source": [
    "The distribution of train labels is quite balanced on the whole and in differnt languages."
   ]
  },
  {
   "cell_type": "code",
   "execution_count": 10,
   "metadata": {
    "_kg_hide-input": true,
    "execution": {
     "iopub.execute_input": "2021-05-06T09:11:41.180017Z",
     "iopub.status.busy": "2021-05-06T09:11:41.174798Z",
     "iopub.status.idle": "2021-05-06T09:11:44.338953Z",
     "shell.execute_reply": "2021-05-06T09:11:44.338514Z"
    },
    "papermill": {
     "duration": 3.220311,
     "end_time": "2021-05-06T09:11:44.339052",
     "exception": false,
     "start_time": "2021-05-06T09:11:41.118741",
     "status": "completed"
    },
    "tags": []
   },
   "outputs": [
    {
     "data": {
      "text/plain": [
       "Text(0.13, 0.95, 'Train: Premise & Hypothesis Word Count')"
      ]
     },
     "execution_count": 10,
     "metadata": {},
     "output_type": "execute_result"
    },
    {
     "data": {
      "image/png": "[encoded data removed]",
      "text/plain": [
       "<Figure size 1080x1440 with 15 Axes>"
      ]
     },
     "metadata": {
      "needs_background": "light"
     },
     "output_type": "display_data"
    }
   ],
   "source": [
    "df_train['premise_word_cnt'] = df_train['premise'].apply(lambda x: len(x.split()))\n",
    "df_train['hypothesis_word_cnt'] = df_train['hypothesis'].apply(lambda x: len(x.split()))\n",
    "\n",
    "fig,ax = plt.subplots(nrows=5,ncols=3,figsize=(15,20))\n",
    "for i,lang in enumerate(list(train_language_cnt.index)):\n",
    "    sns.distplot(df_train[df_train.language == lang]['premise_word_cnt'],bins=20,\n",
    "                 color='red',label='Premise',kde=False, ax=ax[divmod(i,3)[0],divmod(i,3)[1]])\n",
    "    sns.distplot(df_train[df_train.language == lang]['hypothesis_word_cnt'],bins=20,\n",
    "                 color='blue',label='Hypothesis',kde=False, ax=ax[divmod(i,3)[0],divmod(i,3)[1]])\n",
    "    ax[divmod(i,3)[0],divmod(i,3)[1]].set_title(lang,fontsize=13)\n",
    "    ax[divmod(i,3)[0],divmod(i,3)[1]].legend()\n",
    "    ax[divmod(i,3)[0],divmod(i,3)[1]].set_xlabel('')\n",
    "fig.text(0.13, 0.95, 'Train: Premise & Hypothesis Word Count', fontsize=15, fontweight='bold') "
   ]
  },
  {
   "cell_type": "code",
   "execution_count": 11,
   "metadata": {
    "_kg_hide-input": true,
    "execution": {
     "iopub.execute_input": "2021-05-06T09:11:44.448094Z",
     "iopub.status.busy": "2021-05-06T09:11:44.446660Z",
     "iopub.status.idle": "2021-05-06T09:11:47.886475Z",
     "shell.execute_reply": "2021-05-06T09:11:47.885567Z"
    },
    "papermill": {
     "duration": 3.51333,
     "end_time": "2021-05-06T09:11:47.886577",
     "exception": false,
     "start_time": "2021-05-06T09:11:44.373247",
     "status": "completed"
    },
    "tags": []
   },
   "outputs": [
    {
     "data": {
      "text/plain": [
       "Text(0.13, 0.95, 'Test: Premise & Hypothesis Word Count')"
      ]
     },
     "execution_count": 11,
     "metadata": {},
     "output_type": "execute_result"
    },
    {
     "data": {
      "image/png": "[encoded data removed]",
      "text/plain": [
       "<Figure size 1080x1440 with 15 Axes>"
      ]
     },
     "metadata": {
      "needs_background": "light"
     },
     "output_type": "display_data"
    }
   ],
   "source": [
    "df_test['premise_word_cnt'] = df_test['premise'].apply(lambda x: len(x.split()))\n",
    "df_test['hypothesis_word_cnt'] = df_test['hypothesis'].apply(lambda x: len(x.split()))\n",
    "\n",
    "fig,ax = plt.subplots(nrows=5,ncols=3,figsize=(15,20))\n",
    "for i,lang in enumerate(list(train_language_cnt.index)):\n",
    "    sns.distplot(df_test[df_test.language == lang]['premise_word_cnt'],bins=20,\n",
    "                 color='yellow',label='Premise',kde=False, ax=ax[divmod(i,3)[0],divmod(i,3)[1]])\n",
    "    sns.distplot(df_test[df_test.language == lang]['hypothesis_word_cnt'],bins=20,\n",
    "                 color='green',label='Hypothesis',kde=False, ax=ax[divmod(i,3)[0],divmod(i,3)[1]])\n",
    "    ax[divmod(i,3)[0],divmod(i,3)[1]].set_title(lang,fontsize=13)\n",
    "    ax[divmod(i,3)[0],divmod(i,3)[1]].legend()\n",
    "    ax[divmod(i,3)[0],divmod(i,3)[1]].set_xlabel('')\n",
    "fig.text(0.13, 0.95, 'Test: Premise & Hypothesis Word Count', fontsize=15, fontweight='bold')"
   ]
  },
  {
   "cell_type": "markdown",
   "metadata": {
    "papermill": {
     "duration": 0.035461,
     "end_time": "2021-05-06T09:11:47.958276",
     "exception": false,
     "start_time": "2021-05-06T09:11:47.922815",
     "status": "completed"
    },
    "tags": []
   },
   "source": [
    "In both training and test data, word count of hypothesis is less than that of premise for all the languages."
   ]
  },
  {
   "cell_type": "markdown",
   "metadata": {
    "papermill": {
     "duration": 0.035183,
     "end_time": "2021-05-06T09:11:48.028960",
     "exception": false,
     "start_time": "2021-05-06T09:11:47.993777",
     "status": "completed"
    },
    "tags": []
   },
   "source": [
    "The max_len for sentences before encoding is around 60 so the in encoding phase, sequence length should be more than this value."
   ]
  },
  {
   "cell_type": "markdown",
   "metadata": {
    "papermill": {
     "duration": 0.035696,
     "end_time": "2021-05-06T09:11:48.100927",
     "exception": false,
     "start_time": "2021-05-06T09:11:48.065231",
     "status": "completed"
    },
    "tags": []
   },
   "source": [
    "# Encode Input For Bert Base"
   ]
  },
  {
   "cell_type": "markdown",
   "metadata": {
    "papermill": {
     "duration": 0.035335,
     "end_time": "2021-05-06T09:11:48.173039",
     "exception": false,
     "start_time": "2021-05-06T09:11:48.137704",
     "status": "completed"
    },
    "tags": []
   },
   "source": [
    "Thanks to the encoding method for Bert base in toturial [notebook](https://www.kaggle.com/anasofiauzsoy/tutorial-notebook)"
   ]
  },
  {
   "cell_type": "code",
   "execution_count": 12,
   "metadata": {
    "execution": {
     "iopub.execute_input": "2021-05-06T09:11:48.249856Z",
     "iopub.status.busy": "2021-05-06T09:11:48.249039Z",
     "iopub.status.idle": "2021-05-06T09:11:48.251977Z",
     "shell.execute_reply": "2021-05-06T09:11:48.251555Z"
    },
    "papermill": {
     "duration": 0.043028,
     "end_time": "2021-05-06T09:11:48.252069",
     "exception": false,
     "start_time": "2021-05-06T09:11:48.209041",
     "status": "completed"
    },
    "tags": []
   },
   "outputs": [],
   "source": [
    "def encode_sentence(s):\n",
    "    tokens = list(tokenizer.tokenize(s))\n",
    "    tokens.append('[SEP]')\n",
    "    return tokenizer.convert_tokens_to_ids(tokens)"
   ]
  },
  {
   "cell_type": "code",
   "execution_count": 13,
   "metadata": {
    "execution": {
     "iopub.execute_input": "2021-05-06T09:11:48.334517Z",
     "iopub.status.busy": "2021-05-06T09:11:48.332643Z",
     "iopub.status.idle": "2021-05-06T09:11:48.337275Z",
     "shell.execute_reply": "2021-05-06T09:11:48.336834Z"
    },
    "papermill": {
     "duration": 0.049682,
     "end_time": "2021-05-06T09:11:48.337369",
     "exception": false,
     "start_time": "2021-05-06T09:11:48.287687",
     "status": "completed"
    },
    "tags": []
   },
   "outputs": [],
   "source": [
    "def bert_encode(premise, hypothesis, tokenizer):\n",
    "    \n",
    "    sentence1 = tf.ragged.constant([encode_sentence(s) for s in np.array(premise)])\n",
    "    sentence2 = tf.ragged.constant([encode_sentence(s) for s in np.array(hypothesis)])\n",
    "    \n",
    "    cls = [tokenizer.convert_tokens_to_ids(['[CLS]'])]*(sentence1.shape[0])\n",
    "    input_word_ids = tf.concat([cls, sentence1, sentence2], axis=-1)\n",
    "\n",
    "    input_masks = tf.ones_like(input_word_ids).to_tensor()\n",
    "\n",
    "    type_cls = tf.zeros_like(cls)\n",
    "    type_s1 = tf.zeros_like(sentence1)\n",
    "    type_s2 = tf.ones_like(sentence2)\n",
    "    input_type_ids = tf.concat([type_cls, type_s1, type_s2], axis=-1).to_tensor()\n",
    "\n",
    "    inputs = {\n",
    "      'input_word_ids': input_word_ids.to_tensor(),\n",
    "      'input_masks': input_masks,\n",
    "      'input_type_ids': input_type_ids}\n",
    "    \n",
    "    return inputs"
   ]
  },
  {
   "cell_type": "code",
   "execution_count": 14,
   "metadata": {
    "_kg_hide-output": true,
    "execution": {
     "iopub.execute_input": "2021-05-06T09:11:48.415811Z",
     "iopub.status.busy": "2021-05-06T09:11:48.414969Z",
     "iopub.status.idle": "2021-05-06T09:12:07.608344Z",
     "shell.execute_reply": "2021-05-06T09:12:07.609159Z"
    },
    "papermill": {
     "duration": 19.234022,
     "end_time": "2021-05-06T09:12:07.609330",
     "exception": false,
     "start_time": "2021-05-06T09:11:48.375308",
     "status": "completed"
    },
    "tags": []
   },
   "outputs": [
    {
     "data": {
      "application/vnd.jupyter.widget-view+json": {
       "model_id": "5b06117ebc1248149afe8afbba98fbd8",
       "version_major": 2,
       "version_minor": 0
      },
      "text/plain": [
       "HBox(children=(FloatProgress(value=0.0, description='Downloading', max=995526.0, style=ProgressStyle(descripti…"
      ]
     },
     "metadata": {},
     "output_type": "display_data"
    },
    {
     "name": "stdout",
     "output_type": "stream",
     "text": [
      "\n"
     ]
    }
   ],
   "source": [
    "tokenizer = BertTokenizer.from_pretrained('bert-base-multilingual-cased')\n",
    "train_input = bert_encode(df_train.premise.values, df_train.hypothesis.values, tokenizer)\n",
    "#train_label = tf.keras.utils.to_categorical(df_train.label.values)"
   ]
  },
  {
   "cell_type": "markdown",
   "metadata": {
    "papermill": {
     "duration": 0.060127,
     "end_time": "2021-05-06T09:12:07.729801",
     "exception": false,
     "start_time": "2021-05-06T09:12:07.669674",
     "status": "completed"
    },
    "tags": []
   },
   "source": [
    "# Build Bert Baseline"
   ]
  },
  {
   "cell_type": "code",
   "execution_count": 15,
   "metadata": {
    "execution": {
     "iopub.execute_input": "2021-05-06T09:12:07.868243Z",
     "iopub.status.busy": "2021-05-06T09:12:07.867615Z",
     "iopub.status.idle": "2021-05-06T09:12:07.874977Z",
     "shell.execute_reply": "2021-05-06T09:12:07.876030Z"
    },
    "papermill": {
     "duration": 0.078977,
     "end_time": "2021-05-06T09:12:07.876184",
     "exception": false,
     "start_time": "2021-05-06T09:12:07.797207",
     "status": "completed"
    },
    "tags": []
   },
   "outputs": [],
   "source": [
    "K.clear_session()"
   ]
  },
  {
   "cell_type": "code",
   "execution_count": 16,
   "metadata": {
    "execution": {
     "iopub.execute_input": "2021-05-06T09:12:08.005003Z",
     "iopub.status.busy": "2021-05-06T09:12:08.003069Z",
     "iopub.status.idle": "2021-05-06T09:12:08.005845Z",
     "shell.execute_reply": "2021-05-06T09:12:08.006323Z"
    },
    "papermill": {
     "duration": 0.062606,
     "end_time": "2021-05-06T09:12:08.006433",
     "exception": false,
     "start_time": "2021-05-06T09:12:07.943827",
     "status": "completed"
    },
    "tags": []
   },
   "outputs": [],
   "source": [
    "def build_bert_baseline(max_len=80):\n",
    "    bert_layer = TFBertModel.from_pretrained('bert-base-multilingual-cased')\n",
    "    input_word_ids = tf.keras.Input(shape = (max_len,),dtype =tf.int32, name='input_word_ids')\n",
    "    input_masks = tf.keras.Input(shape = (max_len,),dtype =tf.int32, name='input_masks')\n",
    "    input_type_ids = tf.keras.Input(shape = (max_len,),dtype =tf.int32, name='input_type_ids')\n",
    "    \n",
    "    sequence_output = bert_layer([input_word_ids, input_masks, input_type_ids])[0]\n",
    "    #sequence_output = clf_output[0]\n",
    "    output = tf.keras.layers.Dense(3, activation='softmax')(sequence_output[:,0,:])\n",
    "    \n",
    "    model = tf.keras.Model(inputs=[input_word_ids,input_masks,input_type_ids],outputs=output)\n",
    "    model.compile(tf.keras.optimizers.Adam(lr=3e-5),\n",
    "                  loss='sparse_categorical_crossentropy',metrics=['accuracy'])\n",
    "    print(model.summary())\n",
    "    return model"
   ]
  },
  {
   "cell_type": "code",
   "execution_count": 17,
   "metadata": {
    "execution": {
     "iopub.execute_input": "2021-05-06T09:12:08.090952Z",
     "iopub.status.busy": "2021-05-06T09:12:08.090441Z",
     "iopub.status.idle": "2021-05-06T09:12:42.584053Z",
     "shell.execute_reply": "2021-05-06T09:12:42.584664Z"
    },
    "papermill": {
     "duration": 34.539115,
     "end_time": "2021-05-06T09:12:42.584843",
     "exception": false,
     "start_time": "2021-05-06T09:12:08.045728",
     "status": "completed"
    },
    "tags": []
   },
   "outputs": [
    {
     "data": {
      "application/vnd.jupyter.widget-view+json": {
       "model_id": "eacedec8b30143ec95d748ffca586434",
       "version_major": 2,
       "version_minor": 0
      },
      "text/plain": [
       "HBox(children=(FloatProgress(value=0.0, description='Downloading', max=625.0, style=ProgressStyle(description_…"
      ]
     },
     "metadata": {},
     "output_type": "display_data"
    },
    {
     "name": "stdout",
     "output_type": "stream",
     "text": [
      "\n"
     ]
    },
    {
     "data": {
      "application/vnd.jupyter.widget-view+json": {
       "model_id": "3d755eaf0a404f0ab0afd76b3f3fe34f",
       "version_major": 2,
       "version_minor": 0
      },
      "text/plain": [
       "HBox(children=(FloatProgress(value=0.0, description='Downloading', max=1083389348.0, style=ProgressStyle(descr…"
      ]
     },
     "metadata": {},
     "output_type": "display_data"
    },
    {
     "name": "stdout",
     "output_type": "stream",
     "text": [
      "\n"
     ]
    },
    {
     "name": "stderr",
     "output_type": "stream",
     "text": [
      "Some layers from the model checkpoint at bert-base-multilingual-cased were not used when initializing TFBertModel: ['nsp___cls', 'mlm___cls']\n",
      "- This IS expected if you are initializing TFBertModel from the checkpoint of a model trained on another task or with another architecture (e.g. initializing a BertForSequenceClassification model from a BertForPreTraining model).\n",
      "- This IS NOT expected if you are initializing TFBertModel from the checkpoint of a model that you expect to be exactly identical (initializing a BertForSequenceClassification model from a BertForSequenceClassification model).\n",
      "All the layers of TFBertModel were initialized from the model checkpoint at bert-base-multilingual-cased.\n",
      "If your task is similar to the task the model of the checkpoint was trained on, you can already use TFBertModel for predictions without further training.\n"
     ]
    },
    {
     "name": "stdout",
     "output_type": "stream",
     "text": [
      "Model: \"functional_1\"\n",
      "__________________________________________________________________________________________________\n",
      "Layer (type)                    Output Shape         Param #     Connected to                     \n",
      "==================================================================================================\n",
      "input_word_ids (InputLayer)     [(None, 80)]         0                                            \n",
      "__________________________________________________________________________________________________\n",
      "input_masks (InputLayer)        [(None, 80)]         0                                            \n",
      "__________________________________________________________________________________________________\n",
      "input_type_ids (InputLayer)     [(None, 80)]         0                                            \n",
      "__________________________________________________________________________________________________\n",
      "tf_bert_model (TFBertModel)     ((None, 80, 768), (N 177853440   input_word_ids[0][0]             \n",
      "                                                                 input_masks[0][0]                \n",
      "                                                                 input_type_ids[0][0]             \n",
      "__________________________________________________________________________________________________\n",
      "tf_op_layer_strided_slice (Tens [(None, 768)]        0           tf_bert_model[0][0]              \n",
      "__________________________________________________________________________________________________\n",
      "dense (Dense)                   (None, 3)            2307        tf_op_layer_strided_slice[0][0]  \n",
      "==================================================================================================\n",
      "Total params: 177,855,747\n",
      "Trainable params: 177,855,747\n",
      "Non-trainable params: 0\n",
      "__________________________________________________________________________________________________\n",
      "None\n"
     ]
    }
   ],
   "source": [
    "model = build_bert_baseline(max_len=80)\n",
    "#for layer in model.layers:\n",
    "    #print(layer.output_shape)\n",
    "    \n",
    "filepath='best_weight.hdf5'\n",
    "checkpoint = tf.keras.callbacks.ModelCheckpoint(filepath, monitor='val_loss', verbose=1, \n",
    "                                                save_best_only=True, save_weights_only=True, \n",
    "                                                mode='min',save_freq = 'epoch')\n",
    "#model.fit(train_input, df_train.label.values, epochs =3, \n",
    "#          batch_size = 16, callbacks=[checkpoint], validation_split=0.2)"
   ]
  },
  {
   "cell_type": "markdown",
   "metadata": {
    "papermill": {
     "duration": 0.039074,
     "end_time": "2021-05-06T09:12:42.664076",
     "exception": false,
     "start_time": "2021-05-06T09:12:42.625002",
     "status": "completed"
    },
    "tags": []
   },
   "source": [
    "# Build Bert with LSTM Head and Concat Pooling Result"
   ]
  },
  {
   "cell_type": "markdown",
   "metadata": {
    "papermill": {
     "duration": 0.03882,
     "end_time": "2021-05-06T09:12:42.742118",
     "exception": false,
     "start_time": "2021-05-06T09:12:42.703298",
     "status": "completed"
    },
    "tags": []
   },
   "source": [
    "Model idea from [here](https://keras.io/examples/nlp/semantic_similarity_with_bert/)"
   ]
  },
  {
   "cell_type": "code",
   "execution_count": 18,
   "metadata": {
    "execution": {
     "iopub.execute_input": "2021-05-06T09:12:42.826685Z",
     "iopub.status.busy": "2021-05-06T09:12:42.825932Z",
     "iopub.status.idle": "2021-05-06T09:12:42.830385Z",
     "shell.execute_reply": "2021-05-06T09:12:42.830779Z"
    },
    "papermill": {
     "duration": 0.049186,
     "end_time": "2021-05-06T09:12:42.830893",
     "exception": false,
     "start_time": "2021-05-06T09:12:42.781707",
     "status": "completed"
    },
    "tags": []
   },
   "outputs": [],
   "source": [
    "K.clear_session()"
   ]
  },
  {
   "cell_type": "code",
   "execution_count": 19,
   "metadata": {
    "execution": {
     "iopub.execute_input": "2021-05-06T09:12:42.923653Z",
     "iopub.status.busy": "2021-05-06T09:12:42.922206Z",
     "iopub.status.idle": "2021-05-06T09:12:42.924660Z",
     "shell.execute_reply": "2021-05-06T09:12:42.925071Z"
    },
    "papermill": {
     "duration": 0.054125,
     "end_time": "2021-05-06T09:12:42.925180",
     "exception": false,
     "start_time": "2021-05-06T09:12:42.871055",
     "status": "completed"
    },
    "tags": []
   },
   "outputs": [],
   "source": [
    "def build_bert_LSTM_head(max_len=80):\n",
    "    bert_layer = TFBertModel.from_pretrained('bert-base-multilingual-cased')\n",
    "    input_word_ids = tf.keras.Input(shape = (max_len,),dtype =tf.int32, name='input_word_ids')\n",
    "    input_masks = tf.keras.Input(shape = (max_len,),dtype =tf.int32, name='input_masks')\n",
    "    input_type_ids = tf.keras.Input(shape = (max_len,),dtype =tf.int32, name='input_type_ids')\n",
    "    \n",
    "    sequence_output = bert_layer([input_word_ids, input_masks, input_type_ids])[0]\n",
    "    bi_lstm = tf.keras.layers.Bidirectional(tf.keras.layers.LSTM(64, return_sequences=True))(sequence_output)\n",
    "    avg_pool = tf.keras.layers.GlobalAveragePooling1D()(bi_lstm)\n",
    "    max_pool = tf.keras.layers.GlobalMaxPooling1D()(bi_lstm)\n",
    "    concat = tf.keras.layers.concatenate([avg_pool, max_pool])\n",
    "    dropout = tf.keras.layers.Dropout(0.3)(concat)\n",
    "    output = tf.keras.layers.Dense(3, activation=\"softmax\")(dropout)\n",
    "     \n",
    "    model = tf.keras.Model(inputs=[input_word_ids,input_masks,input_type_ids],outputs=output)\n",
    "    model.compile(tf.keras.optimizers.Adam(lr=3e-5),\n",
    "                  loss='sparse_categorical_crossentropy',metrics=['accuracy'])\n",
    "    print(model.summary())\n",
    "    return model"
   ]
  },
  {
   "cell_type": "code",
   "execution_count": 20,
   "metadata": {
    "execution": {
     "iopub.execute_input": "2021-05-06T09:12:43.011831Z",
     "iopub.status.busy": "2021-05-06T09:12:43.010984Z",
     "iopub.status.idle": "2021-05-06T09:12:46.486500Z",
     "shell.execute_reply": "2021-05-06T09:12:46.485749Z"
    },
    "papermill": {
     "duration": 3.520734,
     "end_time": "2021-05-06T09:12:46.486606",
     "exception": false,
     "start_time": "2021-05-06T09:12:42.965872",
     "status": "completed"
    },
    "tags": []
   },
   "outputs": [
    {
     "name": "stderr",
     "output_type": "stream",
     "text": [
      "Some layers from the model checkpoint at bert-base-multilingual-cased were not used when initializing TFBertModel: ['nsp___cls', 'mlm___cls']\n",
      "- This IS expected if you are initializing TFBertModel from the checkpoint of a model trained on another task or with another architecture (e.g. initializing a BertForSequenceClassification model from a BertForPreTraining model).\n",
      "- This IS NOT expected if you are initializing TFBertModel from the checkpoint of a model that you expect to be exactly identical (initializing a BertForSequenceClassification model from a BertForSequenceClassification model).\n",
      "All the layers of TFBertModel were initialized from the model checkpoint at bert-base-multilingual-cased.\n",
      "If your task is similar to the task the model of the checkpoint was trained on, you can already use TFBertModel for predictions without further training.\n"
     ]
    },
    {
     "name": "stdout",
     "output_type": "stream",
     "text": [
      "Model: \"functional_1\"\n",
      "__________________________________________________________________________________________________\n",
      "Layer (type)                    Output Shape         Param #     Connected to                     \n",
      "==================================================================================================\n",
      "input_word_ids (InputLayer)     [(None, 80)]         0                                            \n",
      "__________________________________________________________________________________________________\n",
      "input_masks (InputLayer)        [(None, 80)]         0                                            \n",
      "__________________________________________________________________________________________________\n",
      "input_type_ids (InputLayer)     [(None, 80)]         0                                            \n",
      "__________________________________________________________________________________________________\n",
      "tf_bert_model (TFBertModel)     ((None, 80, 768), (N 177853440   input_word_ids[0][0]             \n",
      "                                                                 input_masks[0][0]                \n",
      "                                                                 input_type_ids[0][0]             \n",
      "__________________________________________________________________________________________________\n",
      "bidirectional (Bidirectional)   (None, 80, 128)      426496      tf_bert_model[0][0]              \n",
      "__________________________________________________________________________________________________\n",
      "global_average_pooling1d (Globa (None, 128)          0           bidirectional[0][0]              \n",
      "__________________________________________________________________________________________________\n",
      "global_max_pooling1d (GlobalMax (None, 128)          0           bidirectional[0][0]              \n",
      "__________________________________________________________________________________________________\n",
      "concatenate (Concatenate)       (None, 256)          0           global_average_pooling1d[0][0]   \n",
      "                                                                 global_max_pooling1d[0][0]       \n",
      "__________________________________________________________________________________________________\n",
      "dropout_37 (Dropout)            (None, 256)          0           concatenate[0][0]                \n",
      "__________________________________________________________________________________________________\n",
      "dense (Dense)                   (None, 3)            771         dropout_37[0][0]                 \n",
      "==================================================================================================\n",
      "Total params: 178,280,707\n",
      "Trainable params: 178,280,707\n",
      "Non-trainable params: 0\n",
      "__________________________________________________________________________________________________\n",
      "None\n"
     ]
    }
   ],
   "source": [
    "bert_lstm_model = build_bert_LSTM_head(max_len=80)\n",
    "#for layer in model.layers:\n",
    "    #print(layer.output_shape)\n",
    "    \n",
    "filepath='LSTM_best_weight.hdf5'\n",
    "checkpoint = tf.keras.callbacks.ModelCheckpoint(filepath, monitor='val_loss', verbose=1, \n",
    "                                                save_best_only=True, save_weights_only=True, \n",
    "                                                mode='min',save_freq = 'epoch')\n",
    "#bert_lstm_model.fit(train_input, df_train.label.values, epochs =2, \n",
    "#          batch_size = 16, callbacks=[checkpoint], validation_split=0.2)"
   ]
  },
  {
   "cell_type": "markdown",
   "metadata": {
    "papermill": {
     "duration": 0.040436,
     "end_time": "2021-05-06T09:12:46.568696",
     "exception": false,
     "start_time": "2021-05-06T09:12:46.528260",
     "status": "completed"
    },
    "tags": []
   },
   "source": [
    "The model performance did not improve after increasing complexity compared with baseline Bert model. Hence, There are two choices for me to boosting my results. The first is to do some translation augmentation and train the model again. The second is to switch to roBerta model."
   ]
  },
  {
   "cell_type": "markdown",
   "metadata": {
    "papermill": {
     "duration": 0.040351,
     "end_time": "2021-05-06T09:12:46.649308",
     "exception": false,
     "start_time": "2021-05-06T09:12:46.608957",
     "status": "completed"
    },
    "tags": []
   },
   "source": [
    "# XLM-roBerta-Large"
   ]
  },
  {
   "cell_type": "markdown",
   "metadata": {
    "papermill": {
     "duration": 0.040423,
     "end_time": "2021-05-06T09:12:46.730287",
     "exception": false,
     "start_time": "2021-05-06T09:12:46.689864",
     "status": "completed"
    },
    "tags": []
   },
   "source": [
    "Thanks to the [notebook](https://www.kaggle.com/xhlulu/contradictory-watson-concise-keras-xlm-r-on-tpu) as a complete guidance on TPU configuration and XLM-roBerta-Large fine tuning"
   ]
  },
  {
   "cell_type": "code",
   "execution_count": 21,
   "metadata": {
    "execution": {
     "iopub.execute_input": "2021-05-06T09:12:46.816819Z",
     "iopub.status.busy": "2021-05-06T09:12:46.815743Z",
     "iopub.status.idle": "2021-05-06T09:12:46.819807Z",
     "shell.execute_reply": "2021-05-06T09:12:46.818985Z"
    },
    "papermill": {
     "duration": 0.049305,
     "end_time": "2021-05-06T09:12:46.819910",
     "exception": false,
     "start_time": "2021-05-06T09:12:46.770605",
     "status": "completed"
    },
    "tags": []
   },
   "outputs": [],
   "source": [
    "K.clear_session()"
   ]
  },
  {
   "cell_type": "markdown",
   "metadata": {
    "papermill": {
     "duration": 0.040322,
     "end_time": "2021-05-06T09:12:46.900747",
     "exception": false,
     "start_time": "2021-05-06T09:12:46.860425",
     "status": "completed"
    },
    "tags": []
   },
   "source": [
    "Initialize TPU"
   ]
  },
  {
   "cell_type": "code",
   "execution_count": 22,
   "metadata": {
    "execution": {
     "iopub.execute_input": "2021-05-06T09:12:46.988746Z",
     "iopub.status.busy": "2021-05-06T09:12:46.988075Z",
     "iopub.status.idle": "2021-05-06T09:12:46.992069Z",
     "shell.execute_reply": "2021-05-06T09:12:46.992511Z"
    },
    "papermill": {
     "duration": 0.050976,
     "end_time": "2021-05-06T09:12:46.992617",
     "exception": false,
     "start_time": "2021-05-06T09:12:46.941641",
     "status": "completed"
    },
    "tags": []
   },
   "outputs": [
    {
     "name": "stdout",
     "output_type": "stream",
     "text": [
      "REPLICAS:  1\n"
     ]
    }
   ],
   "source": [
    "# Detect hardware, return appropriate distribution strategy\n",
    "try:\n",
    "    # TPU detection. No parameters necessary if TPU_NAME environment variable is\n",
    "    # set: this is always the case on Kaggle.\n",
    "    tpu = tf.distribute.cluster_resolver.TPUClusterResolver()\n",
    "    tf.config.experimental_connect_to_cluster(tpu)\n",
    "    tf.tpu.experimental.initialize_tpu_system(tpu)\n",
    "    strategy = tf.distribute.experimental.TPUStrategy(tpu)\n",
    "    print('Running on TPU ', tpu.master())\n",
    "except ValueError:\n",
    "    # Default distribution strategy in Tensorflow. Works on CPU and single GPU.\n",
    "    strategy = tf.distribute.get_strategy()\n",
    "\n",
    "print(\"REPLICAS: \", strategy.num_replicas_in_sync)"
   ]
  },
  {
   "cell_type": "code",
   "execution_count": 23,
   "metadata": {
    "execution": {
     "iopub.execute_input": "2021-05-06T09:12:47.080904Z",
     "iopub.status.busy": "2021-05-06T09:12:47.079148Z",
     "iopub.status.idle": "2021-05-06T09:12:47.081512Z",
     "shell.execute_reply": "2021-05-06T09:12:47.082008Z"
    },
    "papermill": {
     "duration": 0.048573,
     "end_time": "2021-05-06T09:12:47.082121",
     "exception": false,
     "start_time": "2021-05-06T09:12:47.033548",
     "status": "completed"
    },
    "tags": []
   },
   "outputs": [],
   "source": [
    "def roberta_encode(text,tokenizer,max_len=80):\n",
    "    encoded_text = tokenizer.batch_encode_plus(text,\n",
    "                                               pad_to_max_length=True,\n",
    "                                               max_length=max_len)\n",
    "    return encoded_text"
   ]
  },
  {
   "cell_type": "code",
   "execution_count": 24,
   "metadata": {
    "_kg_hide-output": true,
    "execution": {
     "iopub.execute_input": "2021-05-06T09:12:47.170055Z",
     "iopub.status.busy": "2021-05-06T09:12:47.169257Z",
     "iopub.status.idle": "2021-05-06T09:12:51.318017Z",
     "shell.execute_reply": "2021-05-06T09:12:51.316938Z"
    },
    "papermill": {
     "duration": 4.194594,
     "end_time": "2021-05-06T09:12:51.318137",
     "exception": false,
     "start_time": "2021-05-06T09:12:47.123543",
     "status": "completed"
    },
    "tags": []
   },
   "outputs": [
    {
     "data": {
      "application/vnd.jupyter.widget-view+json": {
       "model_id": "ab21b256014748a399433b79c994d78c",
       "version_major": 2,
       "version_minor": 0
      },
      "text/plain": [
       "HBox(children=(FloatProgress(value=0.0, description='Downloading', max=513.0, style=ProgressStyle(description_…"
      ]
     },
     "metadata": {},
     "output_type": "display_data"
    },
    {
     "name": "stdout",
     "output_type": "stream",
     "text": [
      "\n"
     ]
    },
    {
     "data": {
      "application/vnd.jupyter.widget-view+json": {
       "model_id": "4ff4bc5e8e434fd3a9bd6bb6a6dc2871",
       "version_major": 2,
       "version_minor": 0
      },
      "text/plain": [
       "HBox(children=(FloatProgress(value=0.0, description='Downloading', max=5069051.0, style=ProgressStyle(descript…"
      ]
     },
     "metadata": {},
     "output_type": "display_data"
    },
    {
     "name": "stdout",
     "output_type": "stream",
     "text": [
      "\n"
     ]
    },
    {
     "name": "stderr",
     "output_type": "stream",
     "text": [
      "Truncation was not explicitly activated but `max_length` is provided a specific value, please use `truncation=True` to explicitly truncate examples to max length. Defaulting to 'longest_first' truncation strategy. If you encode pairs of sequences (GLUE-style) with the tokenizer you can select this strategy more precisely by providing a specific strategy to `truncation`.\n",
      "/opt/conda/lib/python3.7/site-packages/transformers/tokenization_utils_base.py:2022: FutureWarning:\n",
      "\n",
      "The `pad_to_max_length` argument is deprecated and will be removed in a future version, use `padding=True` or `padding='longest'` to pad to the longest sequence in the batch, or use `padding='max_length'` to pad to a max length. In this case, you can give a specific length with `max_length` (e.g. `max_length=45`) or leave max_length to None to pad to the maximal input size of the model (e.g. 512 for Bert).\n",
      "\n"
     ]
    }
   ],
   "source": [
    "tokenizer = AutoTokenizer.from_pretrained('jplu/tf-xlm-roberta-large')\n",
    "\n",
    "train_text = df_train[['premise', 'hypothesis']].values.tolist()\n",
    "encoded_train_text = roberta_encode(train_text,tokenizer,max_len=80)"
   ]
  },
  {
   "cell_type": "code",
   "execution_count": 25,
   "metadata": {
    "_kg_hide-output": true,
    "execution": {
     "iopub.execute_input": "2021-05-06T09:12:51.425134Z",
     "iopub.status.busy": "2021-05-06T09:12:51.424263Z",
     "iopub.status.idle": "2021-05-06T09:12:51.430152Z",
     "shell.execute_reply": "2021-05-06T09:12:51.430869Z"
    },
    "papermill": {
     "duration": 0.068898,
     "end_time": "2021-05-06T09:12:51.431057",
     "exception": false,
     "start_time": "2021-05-06T09:12:51.362159",
     "status": "completed"
    },
    "tags": []
   },
   "outputs": [],
   "source": [
    "x_train, x_valid, y_train, y_valid = train_test_split(\n",
    "    encoded_train_text['input_ids'], \n",
    "    df_train.label.values, \n",
    "    test_size=0.2, random_state=98)"
   ]
  },
  {
   "cell_type": "code",
   "execution_count": 26,
   "metadata": {
    "execution": {
     "iopub.execute_input": "2021-05-06T09:12:51.595031Z",
     "iopub.status.busy": "2021-05-06T09:12:51.593983Z",
     "iopub.status.idle": "2021-05-06T09:12:51.596817Z",
     "shell.execute_reply": "2021-05-06T09:12:51.597217Z"
    },
    "papermill": {
     "duration": 0.091858,
     "end_time": "2021-05-06T09:12:51.597406",
     "exception": false,
     "start_time": "2021-05-06T09:12:51.505548",
     "status": "completed"
    },
    "tags": []
   },
   "outputs": [],
   "source": [
    "BATCH_SIZE = 16 * strategy.num_replicas_in_sync\n",
    "AUTO = tf.data.experimental.AUTOTUNE"
   ]
  },
  {
   "cell_type": "code",
   "execution_count": 27,
   "metadata": {
    "execution": {
     "iopub.execute_input": "2021-05-06T09:12:51.772668Z",
     "iopub.status.busy": "2021-05-06T09:12:51.771135Z",
     "iopub.status.idle": "2021-05-06T09:12:51.773428Z",
     "shell.execute_reply": "2021-05-06T09:12:51.771933Z"
    },
    "papermill": {
     "duration": 0.090305,
     "end_time": "2021-05-06T09:12:51.773556",
     "exception": false,
     "start_time": "2021-05-06T09:12:51.683251",
     "status": "completed"
    },
    "tags": []
   },
   "outputs": [],
   "source": [
    "def create_tf_dataset(X, y,val,batch_size= BATCH_SIZE,auto=AUTO):\n",
    "    \n",
    "    dataset = tf.data.Dataset.from_tensor_slices((X,y)).shuffle(98)\n",
    "          \n",
    "    if not val:\n",
    "        dataset = dataset.repeat().batch(batch_size).prefetch(auto)\n",
    "    else:\n",
    "        dataset = dataset.batch(batch_size).prefetch(auto)\n",
    "\n",
    "    return dataset"
   ]
  },
  {
   "cell_type": "code",
   "execution_count": 28,
   "metadata": {
    "execution": {
     "iopub.execute_input": "2021-05-06T09:12:51.935042Z",
     "iopub.status.busy": "2021-05-06T09:12:51.934294Z",
     "iopub.status.idle": "2021-05-06T09:12:55.092949Z",
     "shell.execute_reply": "2021-05-06T09:12:55.091805Z"
    },
    "papermill": {
     "duration": 3.247489,
     "end_time": "2021-05-06T09:12:55.093069",
     "exception": false,
     "start_time": "2021-05-06T09:12:51.845580",
     "status": "completed"
    },
    "tags": []
   },
   "outputs": [],
   "source": [
    "tf_train_dataset = create_tf_dataset(x_train,y_train,val=False)\n",
    "tf_val_dataset = create_tf_dataset(x_valid,y_valid,val=True)"
   ]
  },
  {
   "cell_type": "code",
   "execution_count": 29,
   "metadata": {
    "execution": {
     "iopub.execute_input": "2021-05-06T09:12:55.186256Z",
     "iopub.status.busy": "2021-05-06T09:12:55.185401Z",
     "iopub.status.idle": "2021-05-06T09:12:55.188643Z",
     "shell.execute_reply": "2021-05-06T09:12:55.189090Z"
    },
    "papermill": {
     "duration": 0.051905,
     "end_time": "2021-05-06T09:12:55.189214",
     "exception": false,
     "start_time": "2021-05-06T09:12:55.137309",
     "status": "completed"
    },
    "tags": []
   },
   "outputs": [
    {
     "data": {
      "text/plain": [
       "(<PrefetchDataset shapes: ((None, 80), (None,)), types: (tf.int32, tf.int64)>,\n",
       " <PrefetchDataset shapes: ((None, 80), (None,)), types: (tf.int32, tf.int64)>)"
      ]
     },
     "execution_count": 29,
     "metadata": {},
     "output_type": "execute_result"
    }
   ],
   "source": [
    "tf_train_dataset,tf_val_dataset"
   ]
  },
  {
   "cell_type": "code",
   "execution_count": 30,
   "metadata": {
    "execution": {
     "iopub.execute_input": "2021-05-06T09:12:55.284919Z",
     "iopub.status.busy": "2021-05-06T09:12:55.284224Z",
     "iopub.status.idle": "2021-05-06T09:12:55.287088Z",
     "shell.execute_reply": "2021-05-06T09:12:55.286575Z"
    },
    "papermill": {
     "duration": 0.053601,
     "end_time": "2021-05-06T09:12:55.287173",
     "exception": false,
     "start_time": "2021-05-06T09:12:55.233572",
     "status": "completed"
    },
    "tags": []
   },
   "outputs": [],
   "source": [
    "def build_roberta(max_len=80):\n",
    "    roberta_layer = TFAutoModel.from_pretrained('jplu/tf-xlm-roberta-large')\n",
    "    input_ids = tf.keras.Input(shape = (max_len,),dtype =tf.int32, name='input_ids')\n",
    "    \n",
    "    sequence_output = roberta_layer(input_ids)[0]\n",
    "    #sequence_output = clf_output[0]\n",
    "    output = tf.keras.layers.Dense(3, activation='softmax')(sequence_output[:,0,:])\n",
    "    \n",
    "    model = tf.keras.Model(inputs=input_ids, outputs=output)\n",
    "    model.compile(tf.keras.optimizers.Adam(lr=1e-5),\n",
    "                  loss='sparse_categorical_crossentropy',metrics=['accuracy'])\n",
    "    print(model.summary())\n",
    "    return model"
   ]
  },
  {
   "cell_type": "code",
   "execution_count": 31,
   "metadata": {
    "execution": {
     "iopub.execute_input": "2021-05-06T09:12:55.381935Z",
     "iopub.status.busy": "2021-05-06T09:12:55.381128Z",
     "iopub.status.idle": "2021-05-06T10:17:09.277802Z",
     "shell.execute_reply": "2021-05-06T10:17:09.278308Z"
    },
    "papermill": {
     "duration": 3853.9471,
     "end_time": "2021-05-06T10:17:09.278453",
     "exception": false,
     "start_time": "2021-05-06T09:12:55.331353",
     "status": "completed"
    },
    "tags": []
   },
   "outputs": [
    {
     "data": {
      "application/vnd.jupyter.widget-view+json": {
       "model_id": "ff2c70210bd441cbb32723bf31263d12",
       "version_major": 2,
       "version_minor": 0
      },
      "text/plain": [
       "HBox(children=(FloatProgress(value=0.0, description='Downloading', max=3271420488.0, style=ProgressStyle(descr…"
      ]
     },
     "metadata": {},
     "output_type": "display_data"
    },
    {
     "name": "stdout",
     "output_type": "stream",
     "text": [
      "\n"
     ]
    },
    {
     "name": "stderr",
     "output_type": "stream",
     "text": [
      "Some layers from the model checkpoint at jplu/tf-xlm-roberta-large were not used when initializing TFXLMRobertaModel: ['lm_head']\n",
      "- This IS expected if you are initializing TFXLMRobertaModel from the checkpoint of a model trained on another task or with another architecture (e.g. initializing a BertForSequenceClassification model from a BertForPreTraining model).\n",
      "- This IS NOT expected if you are initializing TFXLMRobertaModel from the checkpoint of a model that you expect to be exactly identical (initializing a BertForSequenceClassification model from a BertForSequenceClassification model).\n",
      "All the layers of TFXLMRobertaModel were initialized from the model checkpoint at jplu/tf-xlm-roberta-large.\n",
      "If your task is similar to the task the model of the checkpoint was trained on, you can already use TFXLMRobertaModel for predictions without further training.\n"
     ]
    },
    {
     "name": "stdout",
     "output_type": "stream",
     "text": [
      "Model: \"functional_1\"\n",
      "_________________________________________________________________\n",
      "Layer (type)                 Output Shape              Param #   \n",
      "=================================================================\n",
      "input_ids (InputLayer)       [(None, 80)]              0         \n",
      "_________________________________________________________________\n",
      "tfxlm_roberta_model (TFXLMRo ((None, 80, 1024), (None, 559890432 \n",
      "_________________________________________________________________\n",
      "tf_op_layer_strided_slice (T [(None, 1024)]            0         \n",
      "_________________________________________________________________\n",
      "dense (Dense)                (None, 3)                 3075      \n",
      "=================================================================\n",
      "Total params: 559,893,507\n",
      "Trainable params: 559,893,507\n",
      "Non-trainable params: 0\n",
      "_________________________________________________________________\n",
      "None\n",
      "Epoch 1/10\n",
      "606/606 [==============================] - ETA: 0s - loss: 1.2324 - accuracy: 0.3300\n",
      "Epoch 00001: val_loss improved from inf to 1.21689, saving model to roberta_best_weight.hdf5\n",
      "606/606 [==============================] - 378s 623ms/step - loss: 1.2324 - accuracy: 0.3300 - val_loss: 1.2169 - val_accuracy: 0.3251\n",
      "Epoch 2/10\n",
      "606/606 [==============================] - ETA: 0s - loss: 1.1515 - accuracy: 0.3380\n",
      "Epoch 00002: val_loss improved from 1.21689 to 1.15224, saving model to roberta_best_weight.hdf5\n",
      "606/606 [==============================] - 387s 638ms/step - loss: 1.1515 - accuracy: 0.3380 - val_loss: 1.1522 - val_accuracy: 0.3383\n",
      "Epoch 3/10\n",
      "606/606 [==============================] - ETA: 0s - loss: 1.1469 - accuracy: 0.3352\n",
      "Epoch 00003: val_loss improved from 1.15224 to 1.10158, saving model to roberta_best_weight.hdf5\n",
      "606/606 [==============================] - 385s 636ms/step - loss: 1.1469 - accuracy: 0.3352 - val_loss: 1.1016 - val_accuracy: 0.3234\n",
      "Epoch 4/10\n",
      "606/606 [==============================] - ETA: 0s - loss: 1.1377 - accuracy: 0.3389\n",
      "Epoch 00004: val_loss did not improve from 1.10158\n",
      "606/606 [==============================] - 367s 605ms/step - loss: 1.1377 - accuracy: 0.3389 - val_loss: 1.1137 - val_accuracy: 0.3358\n",
      "Epoch 5/10\n",
      "606/606 [==============================] - ETA: 0s - loss: 1.1327 - accuracy: 0.3369\n",
      "Epoch 00005: val_loss did not improve from 1.10158\n",
      "606/606 [==============================] - 367s 606ms/step - loss: 1.1327 - accuracy: 0.3369 - val_loss: 1.1215 - val_accuracy: 0.3243\n",
      "Epoch 6/10\n",
      "606/606 [==============================] - ETA: 0s - loss: 1.1298 - accuracy: 0.3409\n",
      "Epoch 00006: val_loss did not improve from 1.10158\n",
      "606/606 [==============================] - 367s 606ms/step - loss: 1.1298 - accuracy: 0.3409 - val_loss: 1.1144 - val_accuracy: 0.3247\n",
      "Epoch 7/10\n",
      "606/606 [==============================] - ETA: 0s - loss: 1.1195 - accuracy: 0.3469\n",
      "Epoch 00007: val_loss did not improve from 1.10158\n",
      "606/606 [==============================] - 367s 606ms/step - loss: 1.1195 - accuracy: 0.3469 - val_loss: 1.1038 - val_accuracy: 0.3408\n",
      "Epoch 8/10\n",
      "606/606 [==============================] - ETA: 0s - loss: 1.1098 - accuracy: 0.3556\n",
      "Epoch 00008: val_loss did not improve from 1.10158\n",
      "606/606 [==============================] - 367s 606ms/step - loss: 1.1098 - accuracy: 0.3556 - val_loss: 1.1164 - val_accuracy: 0.3436\n",
      "Epoch 9/10\n",
      "606/606 [==============================] - ETA: 0s - loss: 1.1010 - accuracy: 0.3574\n",
      "Epoch 00009: val_loss did not improve from 1.10158\n",
      "606/606 [==============================] - 367s 606ms/step - loss: 1.1010 - accuracy: 0.3574 - val_loss: 1.1358 - val_accuracy: 0.3428\n",
      "Epoch 10/10\n",
      "606/606 [==============================] - ETA: 0s - loss: 1.0859 - accuracy: 0.3629\n",
      "Epoch 00010: val_loss did not improve from 1.10158\n",
      "606/606 [==============================] - 367s 606ms/step - loss: 1.0859 - accuracy: 0.3629 - val_loss: 1.1235 - val_accuracy: 0.3313\n"
     ]
    }
   ],
   "source": [
    "with strategy.scope():    \n",
    "    roberta_model = build_roberta(max_len=80)\n",
    "    #for layer in model.layers:\n",
    "        #print(layer.output_shape)\n",
    "\n",
    "    filepath='roberta_best_weight.hdf5'\n",
    "    checkpoint = tf.keras.callbacks.ModelCheckpoint(filepath, monitor='val_loss', verbose=1, \n",
    "                                                    save_best_only=True, save_weights_only=True, \n",
    "                                                    mode='min',save_freq = 'epoch')\n",
    "    #roberta_model.fit(tf_train_dataset, epochs =10, \n",
    "              #batch_size = 16, callbacks=[checkpoint], validation_data=tf_val_dataset)\n",
    "    n_steps = len(x_train)//BATCH_SIZE\n",
    "    roberta_model.fit(tf_train_dataset,steps_per_epoch=n_steps,\n",
    "                      validation_data=tf_val_dataset,callbacks=[checkpoint],epochs=10)"
   ]
  },
  {
   "cell_type": "markdown",
   "metadata": {
    "papermill": {
     "duration": 1.93007,
     "end_time": "2021-05-06T10:17:12.954434",
     "exception": false,
     "start_time": "2021-05-06T10:17:11.024364",
     "status": "completed"
    },
    "tags": []
   },
   "source": [
    "# Cross Validation Score"
   ]
  },
  {
   "cell_type": "code",
   "execution_count": 32,
   "metadata": {
    "execution": {
     "iopub.execute_input": "2021-05-06T10:17:16.404966Z",
     "iopub.status.busy": "2021-05-06T10:17:16.403134Z",
     "iopub.status.idle": "2021-05-06T10:17:16.405559Z",
     "shell.execute_reply": "2021-05-06T10:17:16.405967Z"
    },
    "papermill": {
     "duration": 1.738997,
     "end_time": "2021-05-06T10:17:16.406076",
     "exception": false,
     "start_time": "2021-05-06T10:17:14.667079",
     "status": "completed"
    },
    "tags": []
   },
   "outputs": [],
   "source": [
    "def model_cv_score(model):    \n",
    "    skf = StratifiedKFold(n_splits=5, shuffle=True, random_state=98)\n",
    "    E_cv = 0\n",
    "    for fold,(train_idx,val_idx) in enumerate(skf.split(df_train['premise'],df_train['label'])):\n",
    "        print('\\nFold %s:'% (fold))\n",
    "        K.clear_session()\n",
    "\n",
    "        train_premise = df_train['premise'].iloc[train_idx]\n",
    "        train_hypothesis = df_train['hypothesis'].iloc[train_idx]\n",
    "        train_label = df_train['label'].iloc[train_idx]\n",
    "\n",
    "        val_premise = df_train['premise'].iloc[val_idx]\n",
    "        val_hypothesis = df_train['hypothesis'].iloc[val_idx]\n",
    "        val_label = df_train['label'].iloc[val_idx]\n",
    "        \n",
    "        ## use encode method you define, this method is for bert base and \n",
    "        ## subject to change when switched to roBerta\n",
    "        cv_train_input = bert_encode(train_premise.values, train_hypothesis.values, tokenizer)\n",
    "        cv_val_input = bert_encode(val_premise.values, val_hypothesis.values, tokenizer)\n",
    "\n",
    "        #model = build_bert(max_len=55)\n",
    "        filepath='best_weight_fold%s.h5'%(fold)\n",
    "        checkpoint = tf.keras.callbacks.ModelCheckpoint(filepath, monitor='val_loss', verbose=1, \n",
    "                                                    save_best_only=True, save_weights_only=True, \n",
    "                                                    mode='min',save_freq = 'epoch')\n",
    "        model.fit(cv_train_input, train_label.values, epochs =2, \n",
    "              batch_size = 16, callbacks=[checkpoint], \n",
    "              validation_data=(cv_val_input,val_label.values))\n",
    "\n",
    "        print('\\nPredicting OOF Error......')\n",
    "        model.load_weights('best_weight_fold%s.h5'%(fold))\n",
    "        val_pred = [np.argmax(p) for p in model.predict(cv_val_input)]\n",
    "        oof_error = np.sum([pred!=true for pred,true in zip(val_pred,val_label)])/len(val_label)\n",
    "        print('Fold_%s Error: %s' % (fold,oof_error))\n",
    "        E_cv += oof_error\n",
    "\n",
    "    print('\\nE_cv = %s'%(E_cv/5))"
   ]
  },
  {
   "cell_type": "markdown",
   "metadata": {
    "papermill": {
     "duration": 1.86098,
     "end_time": "2021-05-06T10:17:20.018088",
     "exception": false,
     "start_time": "2021-05-06T10:17:18.157108",
     "status": "completed"
    },
    "tags": []
   },
   "source": [
    "Unbiased prediction of out of sample error for bert baseline is 0.35825. The best model performance is fold 0."
   ]
  },
  {
   "cell_type": "markdown",
   "metadata": {
    "papermill": {
     "duration": 1.962727,
     "end_time": "2021-05-06T10:17:23.978553",
     "exception": false,
     "start_time": "2021-05-06T10:17:22.015826",
     "status": "completed"
    },
    "tags": []
   },
   "source": [
    "# Submission"
   ]
  },
  {
   "cell_type": "code",
   "execution_count": 33,
   "metadata": {
    "execution": {
     "iopub.execute_input": "2021-05-06T10:17:27.697290Z",
     "iopub.status.busy": "2021-05-06T10:17:27.695352Z",
     "iopub.status.idle": "2021-05-06T10:17:27.697947Z",
     "shell.execute_reply": "2021-05-06T10:17:27.698461Z"
    },
    "papermill": {
     "duration": 1.909073,
     "end_time": "2021-05-06T10:17:27.698596",
     "exception": false,
     "start_time": "2021-05-06T10:17:25.789523",
     "status": "completed"
    },
    "tags": []
   },
   "outputs": [],
   "source": [
    "#test_input = bert_encode(df_test.premise.values, df_test.hypothesis.values, tokenizer)\n",
    "#model.load_weights('./best_weight_fold0.h5')\n",
    "#pred = [np.argmax(res) for res in model.predict(test_input)]"
   ]
  },
  {
   "cell_type": "code",
   "execution_count": 34,
   "metadata": {
    "execution": {
     "iopub.execute_input": "2021-05-06T10:17:31.261548Z",
     "iopub.status.busy": "2021-05-06T10:17:31.246275Z",
     "iopub.status.idle": "2021-05-06T10:18:40.330790Z",
     "shell.execute_reply": "2021-05-06T10:18:40.329802Z"
    },
    "papermill": {
     "duration": 70.856222,
     "end_time": "2021-05-06T10:18:40.330913",
     "exception": false,
     "start_time": "2021-05-06T10:17:29.474691",
     "status": "completed"
    },
    "tags": []
   },
   "outputs": [],
   "source": [
    "test_text = df_test[['premise', 'hypothesis']].values.tolist()\n",
    "encoded_test_text = roberta_encode(test_text,tokenizer,max_len=80)\n",
    "tf_test_dataset = (tf.data.Dataset\n",
    "                .from_tensor_slices(encoded_test_text['input_ids'])\n",
    "                .batch(BATCH_SIZE))\n",
    "roberta_model.load_weights('./roberta_best_weight.hdf5')\n",
    "pred = [np.argmax(res) for res in roberta_model.predict(tf_test_dataset)]"
   ]
  },
  {
   "cell_type": "code",
   "execution_count": 35,
   "metadata": {
    "execution": {
     "iopub.execute_input": "2021-05-06T10:18:44.074981Z",
     "iopub.status.busy": "2021-05-06T10:18:44.074453Z",
     "iopub.status.idle": "2021-05-06T10:18:44.346034Z",
     "shell.execute_reply": "2021-05-06T10:18:44.345502Z"
    },
    "papermill": {
     "duration": 2.004754,
     "end_time": "2021-05-06T10:18:44.346146",
     "exception": false,
     "start_time": "2021-05-06T10:18:42.341392",
     "status": "completed"
    },
    "tags": []
   },
   "outputs": [],
   "source": [
    "submission = pd.DataFrame({'id':df_test.id,'prediction':pred})\n",
    "submission.to_csv('submission.csv',index=False)"
   ]
  },
  {
   "cell_type": "code",
   "execution_count": 36,
   "metadata": {
    "execution": {
     "iopub.execute_input": "2021-05-06T10:18:47.784887Z",
     "iopub.status.busy": "2021-05-06T10:18:47.784033Z",
     "iopub.status.idle": "2021-05-06T10:18:47.789415Z",
     "shell.execute_reply": "2021-05-06T10:18:47.788757Z"
    },
    "papermill": {
     "duration": 1.725787,
     "end_time": "2021-05-06T10:18:47.789521",
     "exception": false,
     "start_time": "2021-05-06T10:18:46.063734",
     "status": "completed"
    },
    "tags": []
   },
   "outputs": [
    {
     "data": {
      "text/html": [
       "<div>\n",
       "<style scoped>\n",
       "    .dataframe tbody tr th:only-of-type {\n",
       "        vertical-align: middle;\n",
       "    }\n",
       "\n",
       "    .dataframe tbody tr th {\n",
       "        vertical-align: top;\n",
       "    }\n",
       "\n",
       "    .dataframe thead th {\n",
       "        text-align: right;\n",
       "    }\n",
       "</style>\n",
       "<table border=\"1\" class=\"dataframe\">\n",
       "  <thead>\n",
       "    <tr style=\"text-align: right;\">\n",
       "      <th></th>\n",
       "      <th>id</th>\n",
       "      <th>prediction</th>\n",
       "    </tr>\n",
       "  </thead>\n",
       "  <tbody>\n",
       "    <tr>\n",
       "      <th>0</th>\n",
       "      <td>c6d58c3f69</td>\n",
       "      <td>0</td>\n",
       "    </tr>\n",
       "    <tr>\n",
       "      <th>1</th>\n",
       "      <td>cefcc82292</td>\n",
       "      <td>1</td>\n",
       "    </tr>\n",
       "    <tr>\n",
       "      <th>2</th>\n",
       "      <td>e98005252c</td>\n",
       "      <td>1</td>\n",
       "    </tr>\n",
       "    <tr>\n",
       "      <th>3</th>\n",
       "      <td>58518c10ba</td>\n",
       "      <td>1</td>\n",
       "    </tr>\n",
       "    <tr>\n",
       "      <th>4</th>\n",
       "      <td>c32b0d16df</td>\n",
       "      <td>1</td>\n",
       "    </tr>\n",
       "    <tr>\n",
       "      <th>5</th>\n",
       "      <td>aa2510d454</td>\n",
       "      <td>1</td>\n",
       "    </tr>\n",
       "    <tr>\n",
       "      <th>6</th>\n",
       "      <td>865d1c7b16</td>\n",
       "      <td>1</td>\n",
       "    </tr>\n",
       "    <tr>\n",
       "      <th>7</th>\n",
       "      <td>a16f7ed56b</td>\n",
       "      <td>1</td>\n",
       "    </tr>\n",
       "    <tr>\n",
       "      <th>8</th>\n",
       "      <td>6d9fa191e6</td>\n",
       "      <td>1</td>\n",
       "    </tr>\n",
       "    <tr>\n",
       "      <th>9</th>\n",
       "      <td>c156e8fed5</td>\n",
       "      <td>1</td>\n",
       "    </tr>\n",
       "  </tbody>\n",
       "</table>\n",
       "</div>"
      ],
      "text/plain": [
       "           id  prediction\n",
       "0  c6d58c3f69           0\n",
       "1  cefcc82292           1\n",
       "2  e98005252c           1\n",
       "3  58518c10ba           1\n",
       "4  c32b0d16df           1\n",
       "5  aa2510d454           1\n",
       "6  865d1c7b16           1\n",
       "7  a16f7ed56b           1\n",
       "8  6d9fa191e6           1\n",
       "9  c156e8fed5           1"
      ]
     },
     "execution_count": 36,
     "metadata": {},
     "output_type": "execute_result"
    }
   ],
   "source": [
    "submission.head(10)"
   ]
  }
 ],
 "metadata": {
  "kernelspec": {
   "display_name": "Python 3",
   "language": "python",
   "name": "python3"
  },
  "language_info": {
   "codemirror_mode": {
    "name": "ipython",
    "version": 3
   },
   "file_extension": ".py",
   "mimetype": "text/x-python",
   "name": "python",
   "nbconvert_exporter": "python",
   "pygments_lexer": "ipython3",
   "version": "3.7.6"
  },
  "papermill": {
   "duration": 4045.685902,
   "end_time": "2021-05-06T10:18:51.405899",
   "environment_variables": {},
   "exception": null,
   "input_path": "__notebook__.ipynb",
   "output_path": "__notebook__.ipynb",
   "parameters": {},
   "start_time": "2021-05-06T09:11:25.719997",
   "version": "2.1.0"
  },
  "widgets": {
   "application/vnd.jupyter.widget-state+json": {
    "state": {
     "01e5bd337c8f467082f5df81d089fe9a": {
      "model_module": "@jupyter-widgets/controls",
      "model_module_version": "1.5.0",
      "model_name": "ProgressStyleModel",
      "state": {
       "_model_module": "@jupyter-widgets/controls",
       "_model_module_version": "1.5.0",
       "_model_name": "ProgressStyleModel",
       "_view_count": null,
       "_view_module": "@jupyter-widgets/base",
       "_view_module_version": "1.2.0",
       "_view_name": "StyleView",
       "bar_color": null,
       "description_width": "initial"
      }
     },
     "102c37295723407ab9ecd6cdb48562e2": {
      "model_module": "@jupyter-widgets/controls",
      "model_module_version": "1.5.0",
      "model_name": "ProgressStyleModel",
      "state": {
       "_model_module": "@jupyter-widgets/controls",
       "_model_module_version": "1.5.0",
       "_model_name": "ProgressStyleModel",
       "_view_count": null,
       "_view_module": "@jupyter-widgets/base",
       "_view_module_version": "1.2.0",
       "_view_name": "StyleView",
       "bar_color": null,
       "description_width": "initial"
      }
     },
     "215f4ab3e32d4665b9d78d050724fd71": {
      "model_module": "@jupyter-widgets/base",
      "model_module_version": "1.2.0",
      "model_name": "LayoutModel",
      "state": {
       "_model_module": "@jupyter-widgets/base",
       "_model_module_version": "1.2.0",
       "_model_name": "LayoutModel",
       "_view_count": null,
       "_view_module": "@jupyter-widgets/base",
       "_view_module_version": "1.2.0",
       "_view_name": "LayoutView",
       "align_content": null,
       "align_items": null,
       "align_self": null,
       "border": null,
       "bottom": null,
       "display": null,
       "flex": null,
       "flex_flow": null,
       "grid_area": null,
       "grid_auto_columns": null,
       "grid_auto_flow": null,
       "grid_auto_rows": null,
       "grid_column": null,
       "grid_gap": null,
       "grid_row": null,
       "grid_template_areas": null,
       "grid_template_columns": null,
       "grid_template_rows": null,
       "height": null,
       "justify_content": null,
       "justify_items": null,
       "left": null,
       "margin": null,
       "max_height": null,
       "max_width": null,
       "min_height": null,
       "min_width": null,
       "object_fit": null,
       "object_position": null,
       "order": null,
       "overflow": null,
       "overflow_x": null,
       "overflow_y": null,
       "padding": null,
       "right": null,
       "top": null,
       "visibility": null,
       "width": null
      }
     },
     "21ebd1070a5449d49a1c394dde488084": {
      "model_module": "@jupyter-widgets/controls",
      "model_module_version": "1.5.0",
      "model_name": "HTMLModel",
      "state": {
       "_dom_classes": [],
       "_model_module": "@jupyter-widgets/controls",
       "_model_module_version": "1.5.0",
       "_model_name": "HTMLModel",
       "_view_count": null,
       "_view_module": "@jupyter-widgets/controls",
       "_view_module_version": "1.5.0",
       "_view_name": "HTMLView",
       "description": "",
       "description_tooltip": null,
       "layout": "IPY_MODEL_6e88ac22d51b453b8b8060a2d6ff51aa",
       "placeholder": "​",
       "style": "IPY_MODEL_812e4d49337b4a2f870bf19f96967352",
       "value": " 3.27G/3.27G [01:27&lt;00:00, 37.3MB/s]"
      }
     },
     "278f4055dd6e461aaeb25e93364c796c": {
      "model_module": "@jupyter-widgets/base",
      "model_module_version": "1.2.0",
      "model_name": "LayoutModel",
      "state": {
       "_model_module": "@jupyter-widgets/base",
       "_model_module_version": "1.2.0",
       "_model_name": "LayoutModel",
       "_view_count": null,
       "_view_module": "@jupyter-widgets/base",
       "_view_module_version": "1.2.0",
       "_view_name": "LayoutView",
       "align_content": null,
       "align_items": null,
       "align_self": null,
       "border": null,
       "bottom": null,
       "display": null,
       "flex": null,
       "flex_flow": null,
       "grid_area": null,
       "grid_auto_columns": null,
       "grid_auto_flow": null,
       "grid_auto_rows": null,
       "grid_column": null,
       "grid_gap": null,
       "grid_row": null,
       "grid_template_areas": null,
       "grid_template_columns": null,
       "grid_template_rows": null,
       "height": null,
       "justify_content": null,
       "justify_items": null,
       "left": null,
       "margin": null,
       "max_height": null,
       "max_width": null,
       "min_height": null,
       "min_width": null,
       "object_fit": null,
       "object_position": null,
       "order": null,
       "overflow": null,
       "overflow_x": null,
       "overflow_y": null,
       "padding": null,
       "right": null,
       "top": null,
       "visibility": null,
       "width": null
      }
     },
     "2cb3aa614a9041b8be38cfdcaad1cfb2": {
      "model_module": "@jupyter-widgets/controls",
      "model_module_version": "1.5.0",
      "model_name": "ProgressStyleModel",
      "state": {
       "_model_module": "@jupyter-widgets/controls",
       "_model_module_version": "1.5.0",
       "_model_name": "ProgressStyleModel",
       "_view_count": null,
       "_view_module": "@jupyter-widgets/base",
       "_view_module_version": "1.2.0",
       "_view_name": "StyleView",
       "bar_color": null,
       "description_width": "initial"
      }
     },
     "2dc799d880a649c89f817e5cadaac401": {
      "model_module": "@jupyter-widgets/base",
      "model_module_version": "1.2.0",
      "model_name": "LayoutModel",
      "state": {
       "_model_module": "@jupyter-widgets/base",
       "_model_module_version": "1.2.0",
       "_model_name": "LayoutModel",
       "_view_count": null,
       "_view_module": "@jupyter-widgets/base",
       "_view_module_version": "1.2.0",
       "_view_name": "LayoutView",
       "align_content": null,
       "align_items": null,
       "align_self": null,
       "border": null,
       "bottom": null,
       "display": null,
       "flex": null,
       "flex_flow": null,
       "grid_area": null,
       "grid_auto_columns": null,
       "grid_auto_flow": null,
       "grid_auto_rows": null,
       "grid_column": null,
       "grid_gap": null,
       "grid_row": null,
       "grid_template_areas": null,
       "grid_template_columns": null,
       "grid_template_rows": null,
       "height": null,
       "justify_content": null,
       "justify_items": null,
       "left": null,
       "margin": null,
       "max_height": null,
       "max_width": null,
       "min_height": null,
       "min_width": null,
       "object_fit": null,
       "object_position": null,
       "order": null,
       "overflow": null,
       "overflow_x": null,
       "overflow_y": null,
       "padding": null,
       "right": null,
       "top": null,
       "visibility": null,
       "width": null
      }
     },
     "2e3057fc7ec54fe5a49a16387ef2940f": {
      "model_module": "@jupyter-widgets/base",
      "model_module_version": "1.2.0",
      "model_name": "LayoutModel",
      "state": {
       "_model_module": "@jupyter-widgets/base",
       "_model_module_version": "1.2.0",
       "_model_name": "LayoutModel",
       "_view_count": null,
       "_view_module": "@jupyter-widgets/base",
       "_view_module_version": "1.2.0",
       "_view_name": "LayoutView",
       "align_content": null,
       "align_items": null,
       "align_self": null,
       "border": null,
       "bottom": null,
       "display": null,
       "flex": null,
       "flex_flow": null,
       "grid_area": null,
       "grid_auto_columns": null,
       "grid_auto_flow": null,
       "grid_auto_rows": null,
       "grid_column": null,
       "grid_gap": null,
       "grid_row": null,
       "grid_template_areas": null,
       "grid_template_columns": null,
       "grid_template_rows": null,
       "height": null,
       "justify_content": null,
       "justify_items": null,
       "left": null,
       "margin": null,
       "max_height": null,
       "max_width": null,
       "min_height": null,
       "min_width": null,
       "object_fit": null,
       "object_position": null,
       "order": null,
       "overflow": null,
       "overflow_x": null,
       "overflow_y": null,
       "padding": null,
       "right": null,
       "top": null,
       "visibility": null,
       "width": null
      }
     },
     "3c015ebbb8c44b309a97d508e6b74d32": {
      "model_module": "@jupyter-widgets/controls",
      "model_module_version": "1.5.0",
      "model_name": "DescriptionStyleModel",
      "state": {
       "_model_module": "@jupyter-widgets/controls",
       "_model_module_version": "1.5.0",
       "_model_name": "DescriptionStyleModel",
       "_view_count": null,
       "_view_module": "@jupyter-widgets/base",
       "_view_module_version": "1.2.0",
       "_view_name": "StyleView",
       "description_width": ""
      }
     },
     "3d755eaf0a404f0ab0afd76b3f3fe34f": {
      "model_module": "@jupyter-widgets/controls",
      "model_module_version": "1.5.0",
      "model_name": "HBoxModel",
      "state": {
       "_dom_classes": [],
       "_model_module": "@jupyter-widgets/controls",
       "_model_module_version": "1.5.0",
       "_model_name": "HBoxModel",
       "_view_count": null,
       "_view_module": "@jupyter-widgets/controls",
       "_view_module_version": "1.5.0",
       "_view_name": "HBoxView",
       "box_style": "",
       "children": [
        "IPY_MODEL_674e0c4b10c8401b8cdbb416e224794f",
        "IPY_MODEL_f876fb01595946fdb95c1cda107f7a35"
       ],
       "layout": "IPY_MODEL_cc56cd62600345ba8f073478380a6e5d"
      }
     },
     "3f7c37dd1a804d5baf5ede62308c0b66": {
      "model_module": "@jupyter-widgets/base",
      "model_module_version": "1.2.0",
      "model_name": "LayoutModel",
      "state": {
       "_model_module": "@jupyter-widgets/base",
       "_model_module_version": "1.2.0",
       "_model_name": "LayoutModel",
       "_view_count": null,
       "_view_module": "@jupyter-widgets/base",
       "_view_module_version": "1.2.0",
       "_view_name": "LayoutView",
       "align_content": null,
       "align_items": null,
       "align_self": null,
       "border": null,
       "bottom": null,
       "display": null,
       "flex": null,
       "flex_flow": null,
       "grid_area": null,
       "grid_auto_columns": null,
       "grid_auto_flow": null,
       "grid_auto_rows": null,
       "grid_column": null,
       "grid_gap": null,
       "grid_row": null,
       "grid_template_areas": null,
       "grid_template_columns": null,
       "grid_template_rows": null,
       "height": null,
       "justify_content": null,
       "justify_items": null,
       "left": null,
       "margin": null,
       "max_height": null,
       "max_width": null,
       "min_height": null,
       "min_width": null,
       "object_fit": null,
       "object_position": null,
       "order": null,
       "overflow": null,
       "overflow_x": null,
       "overflow_y": null,
       "padding": null,
       "right": null,
       "top": null,
       "visibility": null,
       "width": null
      }
     },
     "4f8df86d16f94692ba53507cd245025e": {
      "model_module": "@jupyter-widgets/base",
      "model_module_version": "1.2.0",
      "model_name": "LayoutModel",
      "state": {
       "_model_module": "@jupyter-widgets/base",
       "_model_module_version": "1.2.0",
       "_model_name": "LayoutModel",
       "_view_count": null,
       "_view_module": "@jupyter-widgets/base",
       "_view_module_version": "1.2.0",
       "_view_name": "LayoutView",
       "align_content": null,
       "align_items": null,
       "align_self": null,
       "border": null,
       "bottom": null,
       "display": null,
       "flex": null,
       "flex_flow": null,
       "grid_area": null,
       "grid_auto_columns": null,
       "grid_auto_flow": null,
       "grid_auto_rows": null,
       "grid_column": null,
       "grid_gap": null,
       "grid_row": null,
       "grid_template_areas": null,
       "grid_template_columns": null,
       "grid_template_rows": null,
       "height": null,
       "justify_content": null,
       "justify_items": null,
       "left": null,
       "margin": null,
       "max_height": null,
       "max_width": null,
       "min_height": null,
       "min_width": null,
       "object_fit": null,
       "object_position": null,
       "order": null,
       "overflow": null,
       "overflow_x": null,
       "overflow_y": null,
       "padding": null,
       "right": null,
       "top": null,
       "visibility": null,
       "width": null
      }
     },
     "4ff4bc5e8e434fd3a9bd6bb6a6dc2871": {
      "model_module": "@jupyter-widgets/controls",
      "model_module_version": "1.5.0",
      "model_name": "HBoxModel",
      "state": {
       "_dom_classes": [],
       "_model_module": "@jupyter-widgets/controls",
       "_model_module_version": "1.5.0",
       "_model_name": "HBoxModel",
       "_view_count": null,
       "_view_module": "@jupyter-widgets/controls",
       "_view_module_version": "1.5.0",
       "_view_name": "HBoxView",
       "box_style": "",
       "children": [
        "IPY_MODEL_6d5a0ff1ec5a46548c30e43d92f774a1",
        "IPY_MODEL_c9d25ea56e7740ca83ec4765a193a402"
       ],
       "layout": "IPY_MODEL_4f8df86d16f94692ba53507cd245025e"
      }
     },
     "505fefa15d784ca2a635f9a453e77c0c": {
      "model_module": "@jupyter-widgets/base",
      "model_module_version": "1.2.0",
      "model_name": "LayoutModel",
      "state": {
       "_model_module": "@jupyter-widgets/base",
       "_model_module_version": "1.2.0",
       "_model_name": "LayoutModel",
       "_view_count": null,
       "_view_module": "@jupyter-widgets/base",
       "_view_module_version": "1.2.0",
       "_view_name": "LayoutView",
       "align_content": null,
       "align_items": null,
       "align_self": null,
       "border": null,
       "bottom": null,
       "display": null,
       "flex": null,
       "flex_flow": null,
       "grid_area": null,
       "grid_auto_columns": null,
       "grid_auto_flow": null,
       "grid_auto_rows": null,
       "grid_column": null,
       "grid_gap": null,
       "grid_row": null,
       "grid_template_areas": null,
       "grid_template_columns": null,
       "grid_template_rows": null,
       "height": null,
       "justify_content": null,
       "justify_items": null,
       "left": null,
       "margin": null,
       "max_height": null,
       "max_width": null,
       "min_height": null,
       "min_width": null,
       "object_fit": null,
       "object_position": null,
       "order": null,
       "overflow": null,
       "overflow_x": null,
       "overflow_y": null,
       "padding": null,
       "right": null,
       "top": null,
       "visibility": null,
       "width": null
      }
     },
     "54acce41918a45ba80b9c94e0f22ccd7": {
      "model_module": "@jupyter-widgets/controls",
      "model_module_version": "1.5.0",
      "model_name": "ProgressStyleModel",
      "state": {
       "_model_module": "@jupyter-widgets/controls",
       "_model_module_version": "1.5.0",
       "_model_name": "ProgressStyleModel",
       "_view_count": null,
       "_view_module": "@jupyter-widgets/base",
       "_view_module_version": "1.2.0",
       "_view_name": "StyleView",
       "bar_color": null,
       "description_width": "initial"
      }
     },
     "5a6677dbf1e34ccebd7a7bc9ef64c641": {
      "model_module": "@jupyter-widgets/controls",
      "model_module_version": "1.5.0",
      "model_name": "ProgressStyleModel",
      "state": {
       "_model_module": "@jupyter-widgets/controls",
       "_model_module_version": "1.5.0",
       "_model_name": "ProgressStyleModel",
       "_view_count": null,
       "_view_module": "@jupyter-widgets/base",
       "_view_module_version": "1.2.0",
       "_view_name": "StyleView",
       "bar_color": null,
       "description_width": "initial"
      }
     },
     "5b06117ebc1248149afe8afbba98fbd8": {
      "model_module": "@jupyter-widgets/controls",
      "model_module_version": "1.5.0",
      "model_name": "HBoxModel",
      "state": {
       "_dom_classes": [],
       "_model_module": "@jupyter-widgets/controls",
       "_model_module_version": "1.5.0",
       "_model_name": "HBoxModel",
       "_view_count": null,
       "_view_module": "@jupyter-widgets/controls",
       "_view_module_version": "1.5.0",
       "_view_name": "HBoxView",
       "box_style": "",
       "children": [
        "IPY_MODEL_88441172e0464e9584efae9cb1c2cf2b",
        "IPY_MODEL_c59f171a540a46479f306747f6bca214"
       ],
       "layout": "IPY_MODEL_9ff8deedcb4a45bea2a1fab4bbb2df3f"
      }
     },
     "61151f3be2574e59a4a362f472db0391": {
      "model_module": "@jupyter-widgets/controls",
      "model_module_version": "1.5.0",
      "model_name": "FloatProgressModel",
      "state": {
       "_dom_classes": [],
       "_model_module": "@jupyter-widgets/controls",
       "_model_module_version": "1.5.0",
       "_model_name": "FloatProgressModel",
       "_view_count": null,
       "_view_module": "@jupyter-widgets/controls",
       "_view_module_version": "1.5.0",
       "_view_name": "ProgressView",
       "bar_style": "success",
       "description": "Downloading: 100%",
       "description_tooltip": null,
       "layout": "IPY_MODEL_6a400f3dc63746649cc99f650a221dae",
       "max": 3271420488.0,
       "min": 0.0,
       "orientation": "horizontal",
       "style": "IPY_MODEL_54acce41918a45ba80b9c94e0f22ccd7",
       "value": 3271420488.0
      }
     },
     "674e0c4b10c8401b8cdbb416e224794f": {
      "model_module": "@jupyter-widgets/controls",
      "model_module_version": "1.5.0",
      "model_name": "FloatProgressModel",
      "state": {
       "_dom_classes": [],
       "_model_module": "@jupyter-widgets/controls",
       "_model_module_version": "1.5.0",
       "_model_name": "FloatProgressModel",
       "_view_count": null,
       "_view_module": "@jupyter-widgets/controls",
       "_view_module_version": "1.5.0",
       "_view_name": "ProgressView",
       "bar_style": "success",
       "description": "Downloading: 100%",
       "description_tooltip": null,
       "layout": "IPY_MODEL_cdef5b2804a84e7daf6e0772c2a3abc5",
       "max": 1083389348.0,
       "min": 0.0,
       "orientation": "horizontal",
       "style": "IPY_MODEL_5a6677dbf1e34ccebd7a7bc9ef64c641",
       "value": 1083389348.0
      }
     },
     "6983925efa0e4916bec6720d6092ae1b": {
      "model_module": "@jupyter-widgets/controls",
      "model_module_version": "1.5.0",
      "model_name": "HTMLModel",
      "state": {
       "_dom_classes": [],
       "_model_module": "@jupyter-widgets/controls",
       "_model_module_version": "1.5.0",
       "_model_name": "HTMLModel",
       "_view_count": null,
       "_view_module": "@jupyter-widgets/controls",
       "_view_module_version": "1.5.0",
       "_view_name": "HTMLView",
       "description": "",
       "description_tooltip": null,
       "layout": "IPY_MODEL_83b10ce7b55f40a88dc6e7bc9f87344b",
       "placeholder": "​",
       "style": "IPY_MODEL_3c015ebbb8c44b309a97d508e6b74d32",
       "value": " 625/625 [00:00&lt;00:00, 6.05kB/s]"
      }
     },
     "6a400f3dc63746649cc99f650a221dae": {
      "model_module": "@jupyter-widgets/base",
      "model_module_version": "1.2.0",
      "model_name": "LayoutModel",
      "state": {
       "_model_module": "@jupyter-widgets/base",
       "_model_module_version": "1.2.0",
       "_model_name": "LayoutModel",
       "_view_count": null,
       "_view_module": "@jupyter-widgets/base",
       "_view_module_version": "1.2.0",
       "_view_name": "LayoutView",
       "align_content": null,
       "align_items": null,
       "align_self": null,
       "border": null,
       "bottom": null,
       "display": null,
       "flex": null,
       "flex_flow": null,
       "grid_area": null,
       "grid_auto_columns": null,
       "grid_auto_flow": null,
       "grid_auto_rows": null,
       "grid_column": null,
       "grid_gap": null,
       "grid_row": null,
       "grid_template_areas": null,
       "grid_template_columns": null,
       "grid_template_rows": null,
       "height": null,
       "justify_content": null,
       "justify_items": null,
       "left": null,
       "margin": null,
       "max_height": null,
       "max_width": null,
       "min_height": null,
       "min_width": null,
       "object_fit": null,
       "object_position": null,
       "order": null,
       "overflow": null,
       "overflow_x": null,
       "overflow_y": null,
       "padding": null,
       "right": null,
       "top": null,
       "visibility": null,
       "width": null
      }
     },
     "6d5a0ff1ec5a46548c30e43d92f774a1": {
      "model_module": "@jupyter-widgets/controls",
      "model_module_version": "1.5.0",
      "model_name": "FloatProgressModel",
      "state": {
       "_dom_classes": [],
       "_model_module": "@jupyter-widgets/controls",
       "_model_module_version": "1.5.0",
       "_model_name": "FloatProgressModel",
       "_view_count": null,
       "_view_module": "@jupyter-widgets/controls",
       "_view_module_version": "1.5.0",
       "_view_name": "ProgressView",
       "bar_style": "success",
       "description": "Downloading: 100%",
       "description_tooltip": null,
       "layout": "IPY_MODEL_88449de8bcec48d5b75b3b29318c4876",
       "max": 5069051.0,
       "min": 0.0,
       "orientation": "horizontal",
       "style": "IPY_MODEL_102c37295723407ab9ecd6cdb48562e2",
       "value": 5069051.0
      }
     },
     "6e88ac22d51b453b8b8060a2d6ff51aa": {
      "model_module": "@jupyter-widgets/base",
      "model_module_version": "1.2.0",
      "model_name": "LayoutModel",
      "state": {
       "_model_module": "@jupyter-widgets/base",
       "_model_module_version": "1.2.0",
       "_model_name": "LayoutModel",
       "_view_count": null,
       "_view_module": "@jupyter-widgets/base",
       "_view_module_version": "1.2.0",
       "_view_name": "LayoutView",
       "align_content": null,
       "align_items": null,
       "align_self": null,
       "border": null,
       "bottom": null,
       "display": null,
       "flex": null,
       "flex_flow": null,
       "grid_area": null,
       "grid_auto_columns": null,
       "grid_auto_flow": null,
       "grid_auto_rows": null,
       "grid_column": null,
       "grid_gap": null,
       "grid_row": null,
       "grid_template_areas": null,
       "grid_template_columns": null,
       "grid_template_rows": null,
       "height": null,
       "justify_content": null,
       "justify_items": null,
       "left": null,
       "margin": null,
       "max_height": null,
       "max_width": null,
       "min_height": null,
       "min_width": null,
       "object_fit": null,
       "object_position": null,
       "order": null,
       "overflow": null,
       "overflow_x": null,
       "overflow_y": null,
       "padding": null,
       "right": null,
       "top": null,
       "visibility": null,
       "width": null
      }
     },
     "72042ad4692747c7924f40a96d6cf5df": {
      "model_module": "@jupyter-widgets/controls",
      "model_module_version": "1.5.0",
      "model_name": "HTMLModel",
      "state": {
       "_dom_classes": [],
       "_model_module": "@jupyter-widgets/controls",
       "_model_module_version": "1.5.0",
       "_model_name": "HTMLModel",
       "_view_count": null,
       "_view_module": "@jupyter-widgets/controls",
       "_view_module_version": "1.5.0",
       "_view_name": "HTMLView",
       "description": "",
       "description_tooltip": null,
       "layout": "IPY_MODEL_278f4055dd6e461aaeb25e93364c796c",
       "placeholder": "​",
       "style": "IPY_MODEL_bfaab6bf74764a78baafdf58479a0d62",
       "value": " 513/513 [00:01&lt;00:00, 403B/s]"
      }
     },
     "729cd015cced42ca8e1726d332e336c4": {
      "model_module": "@jupyter-widgets/controls",
      "model_module_version": "1.5.0",
      "model_name": "DescriptionStyleModel",
      "state": {
       "_model_module": "@jupyter-widgets/controls",
       "_model_module_version": "1.5.0",
       "_model_name": "DescriptionStyleModel",
       "_view_count": null,
       "_view_module": "@jupyter-widgets/base",
       "_view_module_version": "1.2.0",
       "_view_name": "StyleView",
       "description_width": ""
      }
     },
     "812e4d49337b4a2f870bf19f96967352": {
      "model_module": "@jupyter-widgets/controls",
      "model_module_version": "1.5.0",
      "model_name": "DescriptionStyleModel",
      "state": {
       "_model_module": "@jupyter-widgets/controls",
       "_model_module_version": "1.5.0",
       "_model_name": "DescriptionStyleModel",
       "_view_count": null,
       "_view_module": "@jupyter-widgets/base",
       "_view_module_version": "1.2.0",
       "_view_name": "StyleView",
       "description_width": ""
      }
     },
     "83b10ce7b55f40a88dc6e7bc9f87344b": {
      "model_module": "@jupyter-widgets/base",
      "model_module_version": "1.2.0",
      "model_name": "LayoutModel",
      "state": {
       "_model_module": "@jupyter-widgets/base",
       "_model_module_version": "1.2.0",
       "_model_name": "LayoutModel",
       "_view_count": null,
       "_view_module": "@jupyter-widgets/base",
       "_view_module_version": "1.2.0",
       "_view_name": "LayoutView",
       "align_content": null,
       "align_items": null,
       "align_self": null,
       "border": null,
       "bottom": null,
       "display": null,
       "flex": null,
       "flex_flow": null,
       "grid_area": null,
       "grid_auto_columns": null,
       "grid_auto_flow": null,
       "grid_auto_rows": null,
       "grid_column": null,
       "grid_gap": null,
       "grid_row": null,
       "grid_template_areas": null,
       "grid_template_columns": null,
       "grid_template_rows": null,
       "height": null,
       "justify_content": null,
       "justify_items": null,
       "left": null,
       "margin": null,
       "max_height": null,
       "max_width": null,
       "min_height": null,
       "min_width": null,
       "object_fit": null,
       "object_position": null,
       "order": null,
       "overflow": null,
       "overflow_x": null,
       "overflow_y": null,
       "padding": null,
       "right": null,
       "top": null,
       "visibility": null,
       "width": null
      }
     },
     "88441172e0464e9584efae9cb1c2cf2b": {
      "model_module": "@jupyter-widgets/controls",
      "model_module_version": "1.5.0",
      "model_name": "FloatProgressModel",
      "state": {
       "_dom_classes": [],
       "_model_module": "@jupyter-widgets/controls",
       "_model_module_version": "1.5.0",
       "_model_name": "FloatProgressModel",
       "_view_count": null,
       "_view_module": "@jupyter-widgets/controls",
       "_view_module_version": "1.5.0",
       "_view_name": "ProgressView",
       "bar_style": "success",
       "description": "Downloading: 100%",
       "description_tooltip": null,
       "layout": "IPY_MODEL_3f7c37dd1a804d5baf5ede62308c0b66",
       "max": 995526.0,
       "min": 0.0,
       "orientation": "horizontal",
       "style": "IPY_MODEL_8acfc3d38cd0439c88c05d6d0cc778f6",
       "value": 995526.0
      }
     },
     "88449de8bcec48d5b75b3b29318c4876": {
      "model_module": "@jupyter-widgets/base",
      "model_module_version": "1.2.0",
      "model_name": "LayoutModel",
      "state": {
       "_model_module": "@jupyter-widgets/base",
       "_model_module_version": "1.2.0",
       "_model_name": "LayoutModel",
       "_view_count": null,
       "_view_module": "@jupyter-widgets/base",
       "_view_module_version": "1.2.0",
       "_view_name": "LayoutView",
       "align_content": null,
       "align_items": null,
       "align_self": null,
       "border": null,
       "bottom": null,
       "display": null,
       "flex": null,
       "flex_flow": null,
       "grid_area": null,
       "grid_auto_columns": null,
       "grid_auto_flow": null,
       "grid_auto_rows": null,
       "grid_column": null,
       "grid_gap": null,
       "grid_row": null,
       "grid_template_areas": null,
       "grid_template_columns": null,
       "grid_template_rows": null,
       "height": null,
       "justify_content": null,
       "justify_items": null,
       "left": null,
       "margin": null,
       "max_height": null,
       "max_width": null,
       "min_height": null,
       "min_width": null,
       "object_fit": null,
       "object_position": null,
       "order": null,
       "overflow": null,
       "overflow_x": null,
       "overflow_y": null,
       "padding": null,
       "right": null,
       "top": null,
       "visibility": null,
       "width": null
      }
     },
     "8ab0c08a3efc40e8a34454c234c41d33": {
      "model_module": "@jupyter-widgets/base",
      "model_module_version": "1.2.0",
      "model_name": "LayoutModel",
      "state": {
       "_model_module": "@jupyter-widgets/base",
       "_model_module_version": "1.2.0",
       "_model_name": "LayoutModel",
       "_view_count": null,
       "_view_module": "@jupyter-widgets/base",
       "_view_module_version": "1.2.0",
       "_view_name": "LayoutView",
       "align_content": null,
       "align_items": null,
       "align_self": null,
       "border": null,
       "bottom": null,
       "display": null,
       "flex": null,
       "flex_flow": null,
       "grid_area": null,
       "grid_auto_columns": null,
       "grid_auto_flow": null,
       "grid_auto_rows": null,
       "grid_column": null,
       "grid_gap": null,
       "grid_row": null,
       "grid_template_areas": null,
       "grid_template_columns": null,
       "grid_template_rows": null,
       "height": null,
       "justify_content": null,
       "justify_items": null,
       "left": null,
       "margin": null,
       "max_height": null,
       "max_width": null,
       "min_height": null,
       "min_width": null,
       "object_fit": null,
       "object_position": null,
       "order": null,
       "overflow": null,
       "overflow_x": null,
       "overflow_y": null,
       "padding": null,
       "right": null,
       "top": null,
       "visibility": null,
       "width": null
      }
     },
     "8acfc3d38cd0439c88c05d6d0cc778f6": {
      "model_module": "@jupyter-widgets/controls",
      "model_module_version": "1.5.0",
      "model_name": "ProgressStyleModel",
      "state": {
       "_model_module": "@jupyter-widgets/controls",
       "_model_module_version": "1.5.0",
       "_model_name": "ProgressStyleModel",
       "_view_count": null,
       "_view_module": "@jupyter-widgets/base",
       "_view_module_version": "1.2.0",
       "_view_name": "StyleView",
       "bar_color": null,
       "description_width": "initial"
      }
     },
     "8af5fa243fac41d7857f406fbfbb521c": {
      "model_module": "@jupyter-widgets/controls",
      "model_module_version": "1.5.0",
      "model_name": "DescriptionStyleModel",
      "state": {
       "_model_module": "@jupyter-widgets/controls",
       "_model_module_version": "1.5.0",
       "_model_name": "DescriptionStyleModel",
       "_view_count": null,
       "_view_module": "@jupyter-widgets/base",
       "_view_module_version": "1.2.0",
       "_view_name": "StyleView",
       "description_width": ""
      }
     },
     "9ff8deedcb4a45bea2a1fab4bbb2df3f": {
      "model_module": "@jupyter-widgets/base",
      "model_module_version": "1.2.0",
      "model_name": "LayoutModel",
      "state": {
       "_model_module": "@jupyter-widgets/base",
       "_model_module_version": "1.2.0",
       "_model_name": "LayoutModel",
       "_view_count": null,
       "_view_module": "@jupyter-widgets/base",
       "_view_module_version": "1.2.0",
       "_view_name": "LayoutView",
       "align_content": null,
       "align_items": null,
       "align_self": null,
       "border": null,
       "bottom": null,
       "display": null,
       "flex": null,
       "flex_flow": null,
       "grid_area": null,
       "grid_auto_columns": null,
       "grid_auto_flow": null,
       "grid_auto_rows": null,
       "grid_column": null,
       "grid_gap": null,
       "grid_row": null,
       "grid_template_areas": null,
       "grid_template_columns": null,
       "grid_template_rows": null,
       "height": null,
       "justify_content": null,
       "justify_items": null,
       "left": null,
       "margin": null,
       "max_height": null,
       "max_width": null,
       "min_height": null,
       "min_width": null,
       "object_fit": null,
       "object_position": null,
       "order": null,
       "overflow": null,
       "overflow_x": null,
       "overflow_y": null,
       "padding": null,
       "right": null,
       "top": null,
       "visibility": null,
       "width": null
      }
     },
     "aa43440f7bc9483196362f81908c2f85": {
      "model_module": "@jupyter-widgets/controls",
      "model_module_version": "1.5.0",
      "model_name": "DescriptionStyleModel",
      "state": {
       "_model_module": "@jupyter-widgets/controls",
       "_model_module_version": "1.5.0",
       "_model_name": "DescriptionStyleModel",
       "_view_count": null,
       "_view_module": "@jupyter-widgets/base",
       "_view_module_version": "1.2.0",
       "_view_name": "StyleView",
       "description_width": ""
      }
     },
     "ab21b256014748a399433b79c994d78c": {
      "model_module": "@jupyter-widgets/controls",
      "model_module_version": "1.5.0",
      "model_name": "HBoxModel",
      "state": {
       "_dom_classes": [],
       "_model_module": "@jupyter-widgets/controls",
       "_model_module_version": "1.5.0",
       "_model_name": "HBoxModel",
       "_view_count": null,
       "_view_module": "@jupyter-widgets/controls",
       "_view_module_version": "1.5.0",
       "_view_name": "HBoxView",
       "box_style": "",
       "children": [
        "IPY_MODEL_c542d7a8d8254b04bb42a1f7322b361e",
        "IPY_MODEL_72042ad4692747c7924f40a96d6cf5df"
       ],
       "layout": "IPY_MODEL_215f4ab3e32d4665b9d78d050724fd71"
      }
     },
     "bfaab6bf74764a78baafdf58479a0d62": {
      "model_module": "@jupyter-widgets/controls",
      "model_module_version": "1.5.0",
      "model_name": "DescriptionStyleModel",
      "state": {
       "_model_module": "@jupyter-widgets/controls",
       "_model_module_version": "1.5.0",
       "_model_name": "DescriptionStyleModel",
       "_view_count": null,
       "_view_module": "@jupyter-widgets/base",
       "_view_module_version": "1.2.0",
       "_view_name": "StyleView",
       "description_width": ""
      }
     },
     "c542d7a8d8254b04bb42a1f7322b361e": {
      "model_module": "@jupyter-widgets/controls",
      "model_module_version": "1.5.0",
      "model_name": "FloatProgressModel",
      "state": {
       "_dom_classes": [],
       "_model_module": "@jupyter-widgets/controls",
       "_model_module_version": "1.5.0",
       "_model_name": "FloatProgressModel",
       "_view_count": null,
       "_view_module": "@jupyter-widgets/controls",
       "_view_module_version": "1.5.0",
       "_view_name": "ProgressView",
       "bar_style": "success",
       "description": "Downloading: 100%",
       "description_tooltip": null,
       "layout": "IPY_MODEL_8ab0c08a3efc40e8a34454c234c41d33",
       "max": 513.0,
       "min": 0.0,
       "orientation": "horizontal",
       "style": "IPY_MODEL_01e5bd337c8f467082f5df81d089fe9a",
       "value": 513.0
      }
     },
     "c59f171a540a46479f306747f6bca214": {
      "model_module": "@jupyter-widgets/controls",
      "model_module_version": "1.5.0",
      "model_name": "HTMLModel",
      "state": {
       "_dom_classes": [],
       "_model_module": "@jupyter-widgets/controls",
       "_model_module_version": "1.5.0",
       "_model_name": "HTMLModel",
       "_view_count": null,
       "_view_module": "@jupyter-widgets/controls",
       "_view_module_version": "1.5.0",
       "_view_name": "HTMLView",
       "description": "",
       "description_tooltip": null,
       "layout": "IPY_MODEL_ca6f45c89264479699f20370c150d5ff",
       "placeholder": "​",
       "style": "IPY_MODEL_aa43440f7bc9483196362f81908c2f85",
       "value": " 996k/996k [00:00&lt;00:00, 4.59MB/s]"
      }
     },
     "c9d25ea56e7740ca83ec4765a193a402": {
      "model_module": "@jupyter-widgets/controls",
      "model_module_version": "1.5.0",
      "model_name": "HTMLModel",
      "state": {
       "_dom_classes": [],
       "_model_module": "@jupyter-widgets/controls",
       "_model_module_version": "1.5.0",
       "_model_name": "HTMLModel",
       "_view_count": null,
       "_view_module": "@jupyter-widgets/controls",
       "_view_module_version": "1.5.0",
       "_view_name": "HTMLView",
       "description": "",
       "description_tooltip": null,
       "layout": "IPY_MODEL_f902163e94d64350a524e36ed8415da1",
       "placeholder": "​",
       "style": "IPY_MODEL_8af5fa243fac41d7857f406fbfbb521c",
       "value": " 5.07M/5.07M [00:01&lt;00:00, 4.81MB/s]"
      }
     },
     "ca6f45c89264479699f20370c150d5ff": {
      "model_module": "@jupyter-widgets/base",
      "model_module_version": "1.2.0",
      "model_name": "LayoutModel",
      "state": {
       "_model_module": "@jupyter-widgets/base",
       "_model_module_version": "1.2.0",
       "_model_name": "LayoutModel",
       "_view_count": null,
       "_view_module": "@jupyter-widgets/base",
       "_view_module_version": "1.2.0",
       "_view_name": "LayoutView",
       "align_content": null,
       "align_items": null,
       "align_self": null,
       "border": null,
       "bottom": null,
       "display": null,
       "flex": null,
       "flex_flow": null,
       "grid_area": null,
       "grid_auto_columns": null,
       "grid_auto_flow": null,
       "grid_auto_rows": null,
       "grid_column": null,
       "grid_gap": null,
       "grid_row": null,
       "grid_template_areas": null,
       "grid_template_columns": null,
       "grid_template_rows": null,
       "height": null,
       "justify_content": null,
       "justify_items": null,
       "left": null,
       "margin": null,
       "max_height": null,
       "max_width": null,
       "min_height": null,
       "min_width": null,
       "object_fit": null,
       "object_position": null,
       "order": null,
       "overflow": null,
       "overflow_x": null,
       "overflow_y": null,
       "padding": null,
       "right": null,
       "top": null,
       "visibility": null,
       "width": null
      }
     },
     "cc56cd62600345ba8f073478380a6e5d": {
      "model_module": "@jupyter-widgets/base",
      "model_module_version": "1.2.0",
      "model_name": "LayoutModel",
      "state": {
       "_model_module": "@jupyter-widgets/base",
       "_model_module_version": "1.2.0",
       "_model_name": "LayoutModel",
       "_view_count": null,
       "_view_module": "@jupyter-widgets/base",
       "_view_module_version": "1.2.0",
       "_view_name": "LayoutView",
       "align_content": null,
       "align_items": null,
       "align_self": null,
       "border": null,
       "bottom": null,
       "display": null,
       "flex": null,
       "flex_flow": null,
       "grid_area": null,
       "grid_auto_columns": null,
       "grid_auto_flow": null,
       "grid_auto_rows": null,
       "grid_column": null,
       "grid_gap": null,
       "grid_row": null,
       "grid_template_areas": null,
       "grid_template_columns": null,
       "grid_template_rows": null,
       "height": null,
       "justify_content": null,
       "justify_items": null,
       "left": null,
       "margin": null,
       "max_height": null,
       "max_width": null,
       "min_height": null,
       "min_width": null,
       "object_fit": null,
       "object_position": null,
       "order": null,
       "overflow": null,
       "overflow_x": null,
       "overflow_y": null,
       "padding": null,
       "right": null,
       "top": null,
       "visibility": null,
       "width": null
      }
     },
     "cdef5b2804a84e7daf6e0772c2a3abc5": {
      "model_module": "@jupyter-widgets/base",
      "model_module_version": "1.2.0",
      "model_name": "LayoutModel",
      "state": {
       "_model_module": "@jupyter-widgets/base",
       "_model_module_version": "1.2.0",
       "_model_name": "LayoutModel",
       "_view_count": null,
       "_view_module": "@jupyter-widgets/base",
       "_view_module_version": "1.2.0",
       "_view_name": "LayoutView",
       "align_content": null,
       "align_items": null,
       "align_self": null,
       "border": null,
       "bottom": null,
       "display": null,
       "flex": null,
       "flex_flow": null,
       "grid_area": null,
       "grid_auto_columns": null,
       "grid_auto_flow": null,
       "grid_auto_rows": null,
       "grid_column": null,
       "grid_gap": null,
       "grid_row": null,
       "grid_template_areas": null,
       "grid_template_columns": null,
       "grid_template_rows": null,
       "height": null,
       "justify_content": null,
       "justify_items": null,
       "left": null,
       "margin": null,
       "max_height": null,
       "max_width": null,
       "min_height": null,
       "min_width": null,
       "object_fit": null,
       "object_position": null,
       "order": null,
       "overflow": null,
       "overflow_x": null,
       "overflow_y": null,
       "padding": null,
       "right": null,
       "top": null,
       "visibility": null,
       "width": null
      }
     },
     "d1fc44db5fff46aea67cdbe6c74d46c4": {
      "model_module": "@jupyter-widgets/controls",
      "model_module_version": "1.5.0",
      "model_name": "FloatProgressModel",
      "state": {
       "_dom_classes": [],
       "_model_module": "@jupyter-widgets/controls",
       "_model_module_version": "1.5.0",
       "_model_name": "FloatProgressModel",
       "_view_count": null,
       "_view_module": "@jupyter-widgets/controls",
       "_view_module_version": "1.5.0",
       "_view_name": "ProgressView",
       "bar_style": "success",
       "description": "Downloading: 100%",
       "description_tooltip": null,
       "layout": "IPY_MODEL_eab005f1ec3045518574a4be4b9f41cf",
       "max": 625.0,
       "min": 0.0,
       "orientation": "horizontal",
       "style": "IPY_MODEL_2cb3aa614a9041b8be38cfdcaad1cfb2",
       "value": 625.0
      }
     },
     "eab005f1ec3045518574a4be4b9f41cf": {
      "model_module": "@jupyter-widgets/base",
      "model_module_version": "1.2.0",
      "model_name": "LayoutModel",
      "state": {
       "_model_module": "@jupyter-widgets/base",
       "_model_module_version": "1.2.0",
       "_model_name": "LayoutModel",
       "_view_count": null,
       "_view_module": "@jupyter-widgets/base",
       "_view_module_version": "1.2.0",
       "_view_name": "LayoutView",
       "align_content": null,
       "align_items": null,
       "align_self": null,
       "border": null,
       "bottom": null,
       "display": null,
       "flex": null,
       "flex_flow": null,
       "grid_area": null,
       "grid_auto_columns": null,
       "grid_auto_flow": null,
       "grid_auto_rows": null,
       "grid_column": null,
       "grid_gap": null,
       "grid_row": null,
       "grid_template_areas": null,
       "grid_template_columns": null,
       "grid_template_rows": null,
       "height": null,
       "justify_content": null,
       "justify_items": null,
       "left": null,
       "margin": null,
       "max_height": null,
       "max_width": null,
       "min_height": null,
       "min_width": null,
       "object_fit": null,
       "object_position": null,
       "order": null,
       "overflow": null,
       "overflow_x": null,
       "overflow_y": null,
       "padding": null,
       "right": null,
       "top": null,
       "visibility": null,
       "width": null
      }
     },
     "eacedec8b30143ec95d748ffca586434": {
      "model_module": "@jupyter-widgets/controls",
      "model_module_version": "1.5.0",
      "model_name": "HBoxModel",
      "state": {
       "_dom_classes": [],
       "_model_module": "@jupyter-widgets/controls",
       "_model_module_version": "1.5.0",
       "_model_name": "HBoxModel",
       "_view_count": null,
       "_view_module": "@jupyter-widgets/controls",
       "_view_module_version": "1.5.0",
       "_view_name": "HBoxView",
       "box_style": "",
       "children": [
        "IPY_MODEL_d1fc44db5fff46aea67cdbe6c74d46c4",
        "IPY_MODEL_6983925efa0e4916bec6720d6092ae1b"
       ],
       "layout": "IPY_MODEL_2e3057fc7ec54fe5a49a16387ef2940f"
      }
     },
     "f876fb01595946fdb95c1cda107f7a35": {
      "model_module": "@jupyter-widgets/controls",
      "model_module_version": "1.5.0",
      "model_name": "HTMLModel",
      "state": {
       "_dom_classes": [],
       "_model_module": "@jupyter-widgets/controls",
       "_model_module_version": "1.5.0",
       "_model_name": "HTMLModel",
       "_view_count": null,
       "_view_module": "@jupyter-widgets/controls",
       "_view_module_version": "1.5.0",
       "_view_name": "HTMLView",
       "description": "",
       "description_tooltip": null,
       "layout": "IPY_MODEL_2dc799d880a649c89f817e5cadaac401",
       "placeholder": "​",
       "style": "IPY_MODEL_729cd015cced42ca8e1726d332e336c4",
       "value": " 1.08G/1.08G [00:28&lt;00:00, 38.0MB/s]"
      }
     },
     "f902163e94d64350a524e36ed8415da1": {
      "model_module": "@jupyter-widgets/base",
      "model_module_version": "1.2.0",
      "model_name": "LayoutModel",
      "state": {
       "_model_module": "@jupyter-widgets/base",
       "_model_module_version": "1.2.0",
       "_model_name": "LayoutModel",
       "_view_count": null,
       "_view_module": "@jupyter-widgets/base",
       "_view_module_version": "1.2.0",
       "_view_name": "LayoutView",
       "align_content": null,
       "align_items": null,
       "align_self": null,
       "border": null,
       "bottom": null,
       "display": null,
       "flex": null,
       "flex_flow": null,
       "grid_area": null,
       "grid_auto_columns": null,
       "grid_auto_flow": null,
       "grid_auto_rows": null,
       "grid_column": null,
       "grid_gap": null,
       "grid_row": null,
       "grid_template_areas": null,
       "grid_template_columns": null,
       "grid_template_rows": null,
       "height": null,
       "justify_content": null,
       "justify_items": null,
       "left": null,
       "margin": null,
       "max_height": null,
       "max_width": null,
       "min_height": null,
       "min_width": null,
       "object_fit": null,
       "object_position": null,
       "order": null,
       "overflow": null,
       "overflow_x": null,
       "overflow_y": null,
       "padding": null,
       "right": null,
       "top": null,
       "visibility": null,
       "width": null
      }
     },
     "ff2c70210bd441cbb32723bf31263d12": {
      "model_module": "@jupyter-widgets/controls",
      "model_module_version": "1.5.0",
      "model_name": "HBoxModel",
      "state": {
       "_dom_classes": [],
       "_model_module": "@jupyter-widgets/controls",
       "_model_module_version": "1.5.0",
       "_model_name": "HBoxModel",
       "_view_count": null,
       "_view_module": "@jupyter-widgets/controls",
       "_view_module_version": "1.5.0",
       "_view_name": "HBoxView",
       "box_style": "",
       "children": [
        "IPY_MODEL_61151f3be2574e59a4a362f472db0391",
        "IPY_MODEL_21ebd1070a5449d49a1c394dde488084"
       ],
       "layout": "IPY_MODEL_505fefa15d784ca2a635f9a453e77c0c"
      }
     }
    },
    "version_major": 2,
    "version_minor": 0
   }
  }
 },
 "nbformat": 4,
 "nbformat_minor": 4
}
